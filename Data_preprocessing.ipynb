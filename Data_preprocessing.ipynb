{
 "cells": [
  {
   "cell_type": "markdown",
   "metadata": {},
   "source": [
    "# Arabic NLP - Deep Learning project - Group 5"
   ]
  },
  {
   "cell_type": "code",
   "execution_count": 180,
   "metadata": {
    "ExecuteTime": {
     "end_time": "2020-10-23T12:42:47.479812Z",
     "start_time": "2020-10-23T12:42:47.454004Z"
    }
   },
   "outputs": [],
   "source": [
    "import numpy as np\n",
    "import pandas as pd\n",
    "pd.options.display.max_colwidth = 100000"
   ]
  },
  {
   "cell_type": "markdown",
   "metadata": {},
   "source": [
    "## Import data"
   ]
  },
  {
   "cell_type": "code",
   "execution_count": 181,
   "metadata": {
    "ExecuteTime": {
     "end_time": "2020-10-23T12:42:47.993517Z",
     "start_time": "2020-10-23T12:42:47.988425Z"
    }
   },
   "outputs": [],
   "source": [
    "# Warning: it drops rows with http link\n",
    "# df2 = pd.read_csv('ArSAS.txt', sep =\"\\t\")\n",
    "# print(df2.shape)"
   ]
  },
  {
   "cell_type": "code",
   "execution_count": 182,
   "metadata": {
    "ExecuteTime": {
     "end_time": "2020-10-23T12:42:49.436454Z",
     "start_time": "2020-10-23T12:42:49.157350Z"
    }
   },
   "outputs": [],
   "source": [
    "df = pd.read_csv('ArSAS.txt', encoding='utf8', engine='python')"
   ]
  },
  {
   "cell_type": "code",
   "execution_count": 183,
   "metadata": {
    "ExecuteTime": {
     "end_time": "2020-10-23T12:42:50.107029Z",
     "start_time": "2020-10-23T12:42:50.093234Z"
    }
   },
   "outputs": [
    {
     "data": {
      "text/plain": [
       "(21064, 1)"
      ]
     },
     "execution_count": 183,
     "metadata": {},
     "output_type": "execute_result"
    }
   ],
   "source": [
    "df.shape"
   ]
  },
  {
   "cell_type": "code",
   "execution_count": 184,
   "metadata": {
    "ExecuteTime": {
     "end_time": "2020-10-23T12:42:50.377204Z",
     "start_time": "2020-10-23T12:42:50.350098Z"
    }
   },
   "outputs": [
    {
     "data": {
      "text/html": [
       "<div>\n",
       "<style scoped>\n",
       "    .dataframe tbody tr th:only-of-type {\n",
       "        vertical-align: middle;\n",
       "    }\n",
       "\n",
       "    .dataframe tbody tr th {\n",
       "        vertical-align: top;\n",
       "    }\n",
       "\n",
       "    .dataframe thead th {\n",
       "        text-align: right;\n",
       "    }\n",
       "</style>\n",
       "<table border=\"1\" class=\"dataframe\">\n",
       "  <thead>\n",
       "    <tr style=\"text-align: right;\">\n",
       "      <th></th>\n",
       "      <th>#Tweet_ID\tTweet_text\tTopic\tSentiment_label\tSentiment_label_confidence\tSpeech_act_label\tSpeech_act_label_confidence</th>\n",
       "    </tr>\n",
       "  </thead>\n",
       "  <tbody>\n",
       "    <tr>\n",
       "      <th>0</th>\n",
       "      <td>929241870508724224\\tالمباراة القـادمة #غانا x #مصر الجولة الأخيرة من المجموعة الـ 5 تصفيات كاس العالم 2018 روسـيا ترتيب مصر : المركز الاول 12 نقطة ( تم حسم التأهل للمونديال ) غــدا الساعة 5:30 ع قناة : بين ســبورت 1 تـــوقعاتكم لـ نتيجة الماتش .؟ 😀😁 https://t.co/RTQBNZXDqM\\tEvent\\tPositive\\t0.38\\tAssertion\\t0.62</td>\n",
       "    </tr>\n",
       "    <tr>\n",
       "      <th>1</th>\n",
       "      <td>928942264583376897\\tهل هذه هي سياسة خارجيه لدوله تحترم نفسها والآخرين :#اليمن عدوان وحصار ل 3 سنوات #البحرين قمع حراك شعبها المسالم المطالب بالمساواة والعداله #سوريا #العراق دعموا الإرهاب وارسلوا المال والسلاح والانتحاريين #قطر حصار ومحاولة فرض الوصايه والآن #لبنان محاولة فرض وصايه علني!!\\tEntity\\tNegative\\t1\\tExpression\\t0.68</td>\n",
       "    </tr>\n",
       "  </tbody>\n",
       "</table>\n",
       "</div>"
      ],
      "text/plain": [
       "                                                                                                                                                                                                                   #Tweet_ID\\tTweet_text\\tTopic\\tSentiment_label\\tSentiment_label_confidence\\tSpeech_act_label\\tSpeech_act_label_confidence\n",
       "0                 929241870508724224\\tالمباراة القـادمة #غانا x #مصر الجولة الأخيرة من المجموعة الـ 5 تصفيات كاس العالم 2018 روسـيا ترتيب مصر : المركز الاول 12 نقطة ( تم حسم التأهل للمونديال ) غــدا الساعة 5:30 ع قناة : بين ســبورت 1 تـــوقعاتكم لـ نتيجة الماتش .؟ 😀😁 https://t.co/RTQBNZXDqM\\tEvent\\tPositive\\t0.38\\tAssertion\\t0.62\n",
       "1  928942264583376897\\tهل هذه هي سياسة خارجيه لدوله تحترم نفسها والآخرين :#اليمن عدوان وحصار ل 3 سنوات #البحرين قمع حراك شعبها المسالم المطالب بالمساواة والعداله #سوريا #العراق دعموا الإرهاب وارسلوا المال والسلاح والانتحاريين #قطر حصار ومحاولة فرض الوصايه والآن #لبنان محاولة فرض وصايه علني!!\\tEntity\\tNegative\\t1\\tExpression\\t0.68"
      ]
     },
     "execution_count": 184,
     "metadata": {},
     "output_type": "execute_result"
    }
   ],
   "source": [
    "df.head(2)"
   ]
  },
  {
   "cell_type": "markdown",
   "metadata": {},
   "source": [
    "## Preprocessing"
   ]
  },
  {
   "cell_type": "markdown",
   "metadata": {},
   "source": [
    "### Remove http"
   ]
  },
  {
   "cell_type": "code",
   "execution_count": 185,
   "metadata": {
    "ExecuteTime": {
     "end_time": "2020-10-23T12:42:51.597163Z",
     "start_time": "2020-10-23T12:42:51.585482Z"
    }
   },
   "outputs": [],
   "source": [
    "def removing_http(text):\n",
    "    clean_text = re.sub(r'(https?:\\/\\/)(\\s)*(www\\.)?(\\s)*((\\w|\\s)+\\.)*([\\w\\-\\s]+\\/)*([\\w\\-]+)((\\?)?[\\w\\s]*=\\s*[\\w\\%&]*)*', \" \", text)\n",
    "    return clean_text\n"
   ]
  },
  {
   "cell_type": "code",
   "execution_count": 186,
   "metadata": {
    "ExecuteTime": {
     "end_time": "2020-10-23T12:42:52.473221Z",
     "start_time": "2020-10-23T12:42:51.837157Z"
    }
   },
   "outputs": [],
   "source": [
    "# Remove http from tweets\n",
    "df['clean_text'] = df.iloc[:,0].apply(lambda x: removing_http(x))\n",
    "\n",
    "# Splits the column into labeled columns\n",
    "df[['#Tweet_ID', 'Tweet_text', 'Topic', 'Sentiment_label',\n",
    "       'Sentiment_label_confidence', 'Speech_act_label',\n",
    "       'Speech_act_label_confidence']] = df.clean_text.str.split(\"\\t\",expand=True)\n",
    "\n",
    "\n",
    "# Drop old columns\n",
    "df.drop(columns=['#Tweet_ID\\tTweet_text\\tTopic\\tSentiment_label\\tSentiment_label_confidence\\tSpeech_act_label\\tSpeech_act_label_confidence','clean_text'],inplace=True)"
   ]
  },
  {
   "cell_type": "markdown",
   "metadata": {},
   "source": [
    "### Remove emojis"
   ]
  },
  {
   "cell_type": "code",
   "execution_count": 187,
   "metadata": {
    "ExecuteTime": {
     "end_time": "2020-10-23T12:42:52.482960Z",
     "start_time": "2020-10-23T12:42:52.475775Z"
    }
   },
   "outputs": [],
   "source": [
    "emoji_pattern = re.compile(\"[\"\n",
    "        u\"\\U0001F600-\\U0001F64F\"  # emoticons\n",
    "        u\"\\U0001F300-\\U0001F5FF\"  # symbols & pictographs\n",
    "        u\"\\U0001F680-\\U0001F6FF\"  # transport & map symbols\n",
    "        u\"\\U0001F1E0-\\U0001F1FF\"  # flags (iOS)\n",
    "                           \"]+\", flags=re.UNICODE)\n"
   ]
  },
  {
   "cell_type": "code",
   "execution_count": 188,
   "metadata": {
    "ExecuteTime": {
     "end_time": "2020-10-23T12:42:52.738804Z",
     "start_time": "2020-10-23T12:42:52.621588Z"
    }
   },
   "outputs": [],
   "source": [
    "# Remove emojis\n",
    "df['Tweet_text'] = df['Tweet_text'].apply(lambda x: emoji_pattern.sub(r'',x))"
   ]
  },
  {
   "cell_type": "markdown",
   "metadata": {},
   "source": [
    "### Removing hashtags"
   ]
  },
  {
   "cell_type": "code",
   "execution_count": 189,
   "metadata": {
    "ExecuteTime": {
     "end_time": "2020-10-23T12:42:53.242621Z",
     "start_time": "2020-10-23T12:42:53.211776Z"
    }
   },
   "outputs": [],
   "source": [
    "df['Tweet_text'] = df['Tweet_text'].apply(lambda x: x.replace('#',''))"
   ]
  },
  {
   "cell_type": "code",
   "execution_count": 190,
   "metadata": {
    "ExecuteTime": {
     "end_time": "2020-10-23T12:42:54.100626Z",
     "start_time": "2020-10-23T12:42:54.080545Z"
    },
    "scrolled": true
   },
   "outputs": [
    {
     "data": {
      "text/html": [
       "<div>\n",
       "<style scoped>\n",
       "    .dataframe tbody tr th:only-of-type {\n",
       "        vertical-align: middle;\n",
       "    }\n",
       "\n",
       "    .dataframe tbody tr th {\n",
       "        vertical-align: top;\n",
       "    }\n",
       "\n",
       "    .dataframe thead th {\n",
       "        text-align: right;\n",
       "    }\n",
       "</style>\n",
       "<table border=\"1\" class=\"dataframe\">\n",
       "  <thead>\n",
       "    <tr style=\"text-align: right;\">\n",
       "      <th></th>\n",
       "      <th>#Tweet_ID</th>\n",
       "      <th>Tweet_text</th>\n",
       "      <th>Topic</th>\n",
       "      <th>Sentiment_label</th>\n",
       "      <th>Sentiment_label_confidence</th>\n",
       "      <th>Speech_act_label</th>\n",
       "      <th>Speech_act_label_confidence</th>\n",
       "    </tr>\n",
       "  </thead>\n",
       "  <tbody>\n",
       "    <tr>\n",
       "      <th>0</th>\n",
       "      <td>929241870508724224</td>\n",
       "      <td>المباراة القـادمة غانا x مصر الجولة الأخيرة من المجموعة الـ 5 تصفيات كاس العالم 2018 روسـيا ترتيب مصر : المركز الاول 12 نقطة ( تم حسم التأهل للمونديال ) غــدا الساعة 5:30 ع قناة : بين ســبورت 1 تـــوقعاتكم لـ نتيجة الماتش .؟</td>\n",
       "      <td>Event</td>\n",
       "      <td>Positive</td>\n",
       "      <td>0.38</td>\n",
       "      <td>Assertion</td>\n",
       "      <td>0.62</td>\n",
       "    </tr>\n",
       "    <tr>\n",
       "      <th>1</th>\n",
       "      <td>928942264583376897</td>\n",
       "      <td>هل هذه هي سياسة خارجيه لدوله تحترم نفسها والآخرين :اليمن عدوان وحصار ل 3 سنوات البحرين قمع حراك شعبها المسالم المطالب بالمساواة والعداله سوريا العراق دعموا الإرهاب وارسلوا المال والسلاح والانتحاريين قطر حصار ومحاولة فرض الوصايه والآن لبنان محاولة فرض وصايه علني!!</td>\n",
       "      <td>Entity</td>\n",
       "      <td>Negative</td>\n",
       "      <td>1</td>\n",
       "      <td>Expression</td>\n",
       "      <td>0.68</td>\n",
       "    </tr>\n",
       "    <tr>\n",
       "      <th>2</th>\n",
       "      <td>928615163250520065</td>\n",
       "      <td>وزير خارجية فرنسا عن منتدى شباب العالم: شعرت بارتياح وأنا أتابعه من باريس -   youm</td>\n",
       "      <td>Event</td>\n",
       "      <td>Positive</td>\n",
       "      <td>0.69</td>\n",
       "      <td>Assertion</td>\n",
       "      <td>1</td>\n",
       "    </tr>\n",
       "    <tr>\n",
       "      <th>3</th>\n",
       "      <td>931614713368186880</td>\n",
       "      <td>ومع السيسي و بشار و ايران و بن زايد و والا خليفه و روافض إلعراق و حفتر و علي صالح كل طواغيت العرب العلاقات عسل علي سمن</td>\n",
       "      <td>Event</td>\n",
       "      <td>Negative</td>\n",
       "      <td>1</td>\n",
       "      <td>Expression</td>\n",
       "      <td>1</td>\n",
       "    </tr>\n",
       "    <tr>\n",
       "      <th>4</th>\n",
       "      <td>929755693011427331</td>\n",
       "      <td>أهداف مباراة غانا 0 مصر 1 تصفيات كأس العالم 2018 روسيا GHA 0vs1 EYG:</td>\n",
       "      <td>Event</td>\n",
       "      <td>Neutral</td>\n",
       "      <td>1</td>\n",
       "      <td>Assertion</td>\n",
       "      <td>1</td>\n",
       "    </tr>\n",
       "  </tbody>\n",
       "</table>\n",
       "</div>"
      ],
      "text/plain": [
       "            #Tweet_ID  \\\n",
       "0  929241870508724224   \n",
       "1  928942264583376897   \n",
       "2  928615163250520065   \n",
       "3  931614713368186880   \n",
       "4  929755693011427331   \n",
       "\n",
       "                                                                                                                                                                                                                                                                Tweet_text  \\\n",
       "0                                      المباراة القـادمة غانا x مصر الجولة الأخيرة من المجموعة الـ 5 تصفيات كاس العالم 2018 روسـيا ترتيب مصر : المركز الاول 12 نقطة ( تم حسم التأهل للمونديال ) غــدا الساعة 5:30 ع قناة : بين ســبورت 1 تـــوقعاتكم لـ نتيجة الماتش .؟      \n",
       "1  هل هذه هي سياسة خارجيه لدوله تحترم نفسها والآخرين :اليمن عدوان وحصار ل 3 سنوات البحرين قمع حراك شعبها المسالم المطالب بالمساواة والعداله سوريا العراق دعموا الإرهاب وارسلوا المال والسلاح والانتحاريين قطر حصار ومحاولة فرض الوصايه والآن لبنان محاولة فرض وصايه علني!!   \n",
       "2                                                                                                                                                                                       وزير خارجية فرنسا عن منتدى شباب العالم: شعرت بارتياح وأنا أتابعه من باريس -   youm   \n",
       "3                                                                                                                                                   ومع السيسي و بشار و ايران و بن زايد و والا خليفه و روافض إلعراق و حفتر و علي صالح كل طواغيت العرب العلاقات عسل علي سمن   \n",
       "4                                                                                                                                                                                                   أهداف مباراة غانا 0 مصر 1 تصفيات كأس العالم 2018 روسيا GHA 0vs1 EYG:     \n",
       "\n",
       "    Topic Sentiment_label Sentiment_label_confidence Speech_act_label  \\\n",
       "0   Event        Positive                       0.38        Assertion   \n",
       "1  Entity        Negative                          1       Expression   \n",
       "2   Event        Positive                       0.69        Assertion   \n",
       "3   Event        Negative                          1       Expression   \n",
       "4   Event         Neutral                          1        Assertion   \n",
       "\n",
       "  Speech_act_label_confidence  \n",
       "0                        0.62  \n",
       "1                        0.68  \n",
       "2                           1  \n",
       "3                           1  \n",
       "4                           1  "
      ]
     },
     "execution_count": 190,
     "metadata": {},
     "output_type": "execute_result"
    }
   ],
   "source": [
    "df.head(5)"
   ]
  },
  {
   "cell_type": "code",
   "execution_count": 191,
   "metadata": {
    "ExecuteTime": {
     "end_time": "2020-10-23T12:43:07.445469Z",
     "start_time": "2020-10-23T12:43:07.122730Z"
    }
   },
   "outputs": [],
   "source": [
    "df.to_csv('clean_data.csv')"
   ]
  },
  {
   "cell_type": "code",
   "execution_count": null,
   "metadata": {},
   "outputs": [],
   "source": []
  }
 ],
 "metadata": {
  "kernelspec": {
   "display_name": "Python 3",
   "language": "python",
   "name": "python3"
  },
  "language_info": {
   "codemirror_mode": {
    "name": "ipython",
    "version": 3
   },
   "file_extension": ".py",
   "mimetype": "text/x-python",
   "name": "python",
   "nbconvert_exporter": "python",
   "pygments_lexer": "ipython3",
   "version": "3.7.4"
  },
  "toc": {
   "base_numbering": 1,
   "nav_menu": {},
   "number_sections": true,
   "sideBar": true,
   "skip_h1_title": false,
   "title_cell": "Table of Contents",
   "title_sidebar": "Contents",
   "toc_cell": false,
   "toc_position": {},
   "toc_section_display": true,
   "toc_window_display": false
  }
 },
 "nbformat": 4,
 "nbformat_minor": 2
}
