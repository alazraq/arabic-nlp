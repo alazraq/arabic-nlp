{
 "cells": [
  {
   "cell_type": "markdown",
   "metadata": {},
   "source": [
    "# Arabic NLP - Deep learning project - Group 5"
   ]
  },
  {
   "cell_type": "markdown",
   "metadata": {},
   "source": [
    "## Exploratory data analysis"
   ]
  },
  {
   "cell_type": "markdown",
   "metadata": {},
   "source": [
    "### Loading the datasets"
   ]
  },
  {
   "cell_type": "code",
   "execution_count": 1,
   "metadata": {
    "ExecuteTime": {
     "end_time": "2020-10-23T08:55:47.529952Z",
     "start_time": "2020-10-23T08:55:44.230824Z"
    }
   },
   "outputs": [],
   "source": [
    "import numpy as np\n",
    "import pandas as pd"
   ]
  },
  {
   "cell_type": "code",
   "execution_count": 2,
   "metadata": {
    "ExecuteTime": {
     "end_time": "2020-10-23T09:02:53.404930Z",
     "start_time": "2020-10-23T09:02:53.259878Z"
    }
   },
   "outputs": [],
   "source": [
    "df = pd.read_csv('ArSAS.txt', sep =\"\\t\")"
   ]
  },
  {
   "cell_type": "code",
   "execution_count": 3,
   "metadata": {
    "ExecuteTime": {
     "end_time": "2020-10-23T09:06:05.942866Z",
     "start_time": "2020-10-23T09:06:05.890011Z"
    }
   },
   "outputs": [
    {
     "output_type": "execute_result",
     "data": {
      "text/plain": "            #Tweet_ID                                         Tweet_text  \\\n0  929241870508724224  المباراة القـادمة #غانا x #مصر الجولة الأخيرة ...   \n1  928942264583376897  هل هذه هي سياسة خارجيه لدوله تحترم نفسها والآخ...   \n2  928615163250520065  وزير خارجية فرنسا عن منتدى شباب العالم: شعرت ب...   \n3  931614713368186880  ومع السيسي و بشار و ايران و بن زايد و والا خلي...   \n4  929755693011427331  أهداف مباراة غانا 0 مصر 1 تصفيات كأس العالم 20...   \n\n    Topic Sentiment_label  Sentiment_label_confidence Speech_act_label  \\\n0   Event        Positive                        0.38        Assertion   \n1  Entity        Negative                        1.00       Expression   \n2   Event        Positive                        0.69        Assertion   \n3   Event        Negative                        1.00       Expression   \n4   Event         Neutral                        1.00        Assertion   \n\n   Speech_act_label_confidence  \n0                         0.62  \n1                         0.68  \n2                         1.00  \n3                         1.00  \n4                         1.00  ",
      "text/html": "<div>\n<style scoped>\n    .dataframe tbody tr th:only-of-type {\n        vertical-align: middle;\n    }\n\n    .dataframe tbody tr th {\n        vertical-align: top;\n    }\n\n    .dataframe thead th {\n        text-align: right;\n    }\n</style>\n<table border=\"1\" class=\"dataframe\">\n  <thead>\n    <tr style=\"text-align: right;\">\n      <th></th>\n      <th>#Tweet_ID</th>\n      <th>Tweet_text</th>\n      <th>Topic</th>\n      <th>Sentiment_label</th>\n      <th>Sentiment_label_confidence</th>\n      <th>Speech_act_label</th>\n      <th>Speech_act_label_confidence</th>\n    </tr>\n  </thead>\n  <tbody>\n    <tr>\n      <th>0</th>\n      <td>929241870508724224</td>\n      <td>المباراة القـادمة #غانا x #مصر الجولة الأخيرة ...</td>\n      <td>Event</td>\n      <td>Positive</td>\n      <td>0.38</td>\n      <td>Assertion</td>\n      <td>0.62</td>\n    </tr>\n    <tr>\n      <th>1</th>\n      <td>928942264583376897</td>\n      <td>هل هذه هي سياسة خارجيه لدوله تحترم نفسها والآخ...</td>\n      <td>Entity</td>\n      <td>Negative</td>\n      <td>1.00</td>\n      <td>Expression</td>\n      <td>0.68</td>\n    </tr>\n    <tr>\n      <th>2</th>\n      <td>928615163250520065</td>\n      <td>وزير خارجية فرنسا عن منتدى شباب العالم: شعرت ب...</td>\n      <td>Event</td>\n      <td>Positive</td>\n      <td>0.69</td>\n      <td>Assertion</td>\n      <td>1.00</td>\n    </tr>\n    <tr>\n      <th>3</th>\n      <td>931614713368186880</td>\n      <td>ومع السيسي و بشار و ايران و بن زايد و والا خلي...</td>\n      <td>Event</td>\n      <td>Negative</td>\n      <td>1.00</td>\n      <td>Expression</td>\n      <td>1.00</td>\n    </tr>\n    <tr>\n      <th>4</th>\n      <td>929755693011427331</td>\n      <td>أهداف مباراة غانا 0 مصر 1 تصفيات كأس العالم 20...</td>\n      <td>Event</td>\n      <td>Neutral</td>\n      <td>1.00</td>\n      <td>Assertion</td>\n      <td>1.00</td>\n    </tr>\n  </tbody>\n</table>\n</div>"
     },
     "metadata": {},
     "execution_count": 3
    }
   ],
   "source": [
    "df.head()"
   ]
  },
  {
   "cell_type": "code",
   "execution_count": 12,
   "metadata": {
    "ExecuteTime": {
     "end_time": "2020-10-23T09:03:16.820102Z",
     "start_time": "2020-10-23T09:03:16.807680Z"
    }
   },
   "outputs": [
    {
     "data": {
      "text/plain": [
       "(19897, 7)"
      ]
     },
     "execution_count": 12,
     "metadata": {},
     "output_type": "execute_result"
    }
   ],
   "source": []
  },
  {
   "cell_type": "code",
   "execution_count": null,
   "metadata": {},
   "outputs": [],
   "source": []
  }
 ],
 "metadata": {
  "kernelspec": {
   "display_name": "Python 3",
   "language": "python",
   "name": "python3"
  },
  "language_info": {
   "codemirror_mode": {
    "name": "ipython",
    "version": 3
   },
   "file_extension": ".py",
   "mimetype": "text/x-python",
   "name": "python",
   "nbconvert_exporter": "python",
   "pygments_lexer": "ipython3",
   "version": "3.7.3-final"
  },
  "toc": {
   "base_numbering": 1,
   "nav_menu": {},
   "number_sections": true,
   "sideBar": true,
   "skip_h1_title": false,
   "title_cell": "Table of Contents",
   "title_sidebar": "Contents",
   "toc_cell": false,
   "toc_position": {},
   "toc_section_display": true,
   "toc_window_display": false
  }
 },
 "nbformat": 4,
 "nbformat_minor": 2
}