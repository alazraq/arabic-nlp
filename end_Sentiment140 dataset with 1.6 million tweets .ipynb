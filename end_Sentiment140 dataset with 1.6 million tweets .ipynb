{
 "cells": [
  {
   "cell_type": "code",
   "execution_count": 2,
   "metadata": {},
   "outputs": [],
   "source": [
    "import pandas as pd\n",
    "import matplotlib.pyplot as plt\n",
    "%matplotlib inline\n",
    "\n",
    "from collections import Counter\n",
    "import numpy as np\n",
    "import os\n",
    "import warnings\n",
    "import re\n",
    "import time\n",
    "import itertools\n",
    "import pickle\n",
    "\n",
    "import nltk\n",
    "from nltk.corpus import stopwords\n",
    "from nltk.stem import SnowballStemmer\n",
    "\n",
    "from sklearn.model_selection import train_test_split\n",
    "from sklearn.preprocessing import LabelEncoder\n",
    "from sklearn.metrics import confusion_matrix, classification_report, accuracy_score\n",
    "\n",
    "import gensim #word2vec\n",
    "from gensim.models import Word2Vec\n",
    "\n",
    "import keras\n",
    "from keras.preprocessing.text import Tokenizer\n",
    "from keras.preprocessing.sequence import pad_sequences\n",
    "from keras.models import Sequential \n",
    "from keras.layers import Activation, Dense, Dropout, Embedding, Flatten, Conv1D, MaxPooling1D, LSTM \n",
    "from keras.callbacks import ReduceLROnPlateau, EarlyStopping\n",
    "from keras import utils\n"
   ]
  },
  {
   "cell_type": "code",
   "execution_count": 3,
   "metadata": {},
   "outputs": [
    {
     "ename": "NameError",
     "evalue": "name 'whos' is not defined",
     "output_type": "error",
     "traceback": [
      "\u001b[1;31m---------------------------------------------------------------------------\u001b[0m",
      "\u001b[1;31mNameError\u001b[0m                                 Traceback (most recent call last)",
      "\u001b[1;32m<ipython-input-3-9ae725687c76>\u001b[0m in \u001b[0;36m<module>\u001b[1;34m\u001b[0m\n\u001b[0;32m      1\u001b[0m \u001b[1;31m#voir les variables déclarées\u001b[0m\u001b[1;33m\u001b[0m\u001b[1;33m\u001b[0m\u001b[1;33m\u001b[0m\u001b[0m\n\u001b[1;32m----> 2\u001b[1;33m \u001b[0mwhos\u001b[0m\u001b[1;33m\u001b[0m\u001b[1;33m\u001b[0m\u001b[0m\n\u001b[0m",
      "\u001b[1;31mNameError\u001b[0m: name 'whos' is not defined"
     ]
    }
   ],
   "source": [
    "#voir les variables déclarées\n",
    "whos"
   ]
  },
  {
   "cell_type": "code",
   "execution_count": 12,
   "metadata": {},
   "outputs": [
    {
     "data": {
      "text/plain": [
       "1600000"
      ]
     },
     "execution_count": 12,
     "metadata": {},
     "output_type": "execute_result"
    }
   ],
   "source": [
    "len(df)"
   ]
  },
  {
   "cell_type": "markdown",
   "metadata": {},
   "source": [
    "# Charge the data"
   ]
  },
  {
   "cell_type": "code",
   "execution_count": 11,
   "metadata": {},
   "outputs": [
    {
     "name": "stdout",
     "output_type": "stream",
     "text": [
      "Dataset size : 1600000\n"
     ]
    }
   ],
   "source": [
    "\n",
    "names = [\"target\",\"ids\",\"date\",\"flag\",\"user\",\"text\"]\n",
    "df = pd.read_csv(\"training.1600000.processed.noemoticon.csv\",encoding = \"latin-1\", names = names)\n",
    "print(\"Dataset size :\",len(df))"
   ]
  },
  {
   "cell_type": "code",
   "execution_count": 13,
   "metadata": {},
   "outputs": [
    {
     "data": {
      "text/html": [
       "<div>\n",
       "<style scoped>\n",
       "    .dataframe tbody tr th:only-of-type {\n",
       "        vertical-align: middle;\n",
       "    }\n",
       "\n",
       "    .dataframe tbody tr th {\n",
       "        vertical-align: top;\n",
       "    }\n",
       "\n",
       "    .dataframe thead th {\n",
       "        text-align: right;\n",
       "    }\n",
       "</style>\n",
       "<table border=\"1\" class=\"dataframe\">\n",
       "  <thead>\n",
       "    <tr style=\"text-align: right;\">\n",
       "      <th></th>\n",
       "      <th>target</th>\n",
       "      <th>ids</th>\n",
       "      <th>date</th>\n",
       "      <th>flag</th>\n",
       "      <th>user</th>\n",
       "      <th>text</th>\n",
       "    </tr>\n",
       "  </thead>\n",
       "  <tbody>\n",
       "    <tr>\n",
       "      <th>0</th>\n",
       "      <td>0</td>\n",
       "      <td>1467810369</td>\n",
       "      <td>Mon Apr 06 22:19:45 PDT 2009</td>\n",
       "      <td>NO_QUERY</td>\n",
       "      <td>_TheSpecialOne_</td>\n",
       "      <td>@switchfoot http://twitpic.com/2y1zl - Awww, t...</td>\n",
       "    </tr>\n",
       "    <tr>\n",
       "      <th>1</th>\n",
       "      <td>0</td>\n",
       "      <td>1467810672</td>\n",
       "      <td>Mon Apr 06 22:19:49 PDT 2009</td>\n",
       "      <td>NO_QUERY</td>\n",
       "      <td>scotthamilton</td>\n",
       "      <td>is upset that he can't update his Facebook by ...</td>\n",
       "    </tr>\n",
       "    <tr>\n",
       "      <th>2</th>\n",
       "      <td>0</td>\n",
       "      <td>1467810917</td>\n",
       "      <td>Mon Apr 06 22:19:53 PDT 2009</td>\n",
       "      <td>NO_QUERY</td>\n",
       "      <td>mattycus</td>\n",
       "      <td>@Kenichan I dived many times for the ball. Man...</td>\n",
       "    </tr>\n",
       "    <tr>\n",
       "      <th>3</th>\n",
       "      <td>0</td>\n",
       "      <td>1467811184</td>\n",
       "      <td>Mon Apr 06 22:19:57 PDT 2009</td>\n",
       "      <td>NO_QUERY</td>\n",
       "      <td>ElleCTF</td>\n",
       "      <td>my whole body feels itchy and like its on fire</td>\n",
       "    </tr>\n",
       "    <tr>\n",
       "      <th>4</th>\n",
       "      <td>0</td>\n",
       "      <td>1467811193</td>\n",
       "      <td>Mon Apr 06 22:19:57 PDT 2009</td>\n",
       "      <td>NO_QUERY</td>\n",
       "      <td>Karoli</td>\n",
       "      <td>@nationwideclass no, it's not behaving at all....</td>\n",
       "    </tr>\n",
       "  </tbody>\n",
       "</table>\n",
       "</div>"
      ],
      "text/plain": [
       "   target         ids                          date      flag  \\\n",
       "0       0  1467810369  Mon Apr 06 22:19:45 PDT 2009  NO_QUERY   \n",
       "1       0  1467810672  Mon Apr 06 22:19:49 PDT 2009  NO_QUERY   \n",
       "2       0  1467810917  Mon Apr 06 22:19:53 PDT 2009  NO_QUERY   \n",
       "3       0  1467811184  Mon Apr 06 22:19:57 PDT 2009  NO_QUERY   \n",
       "4       0  1467811193  Mon Apr 06 22:19:57 PDT 2009  NO_QUERY   \n",
       "\n",
       "              user                                               text  \n",
       "0  _TheSpecialOne_  @switchfoot http://twitpic.com/2y1zl - Awww, t...  \n",
       "1    scotthamilton  is upset that he can't update his Facebook by ...  \n",
       "2         mattycus  @Kenichan I dived many times for the ball. Man...  \n",
       "3          ElleCTF    my whole body feels itchy and like its on fire   \n",
       "4           Karoli  @nationwideclass no, it's not behaving at all....  "
      ]
     },
     "execution_count": 13,
     "metadata": {},
     "output_type": "execute_result"
    }
   ],
   "source": [
    "df.head()"
   ]
  },
  {
   "cell_type": "markdown",
   "metadata": {},
   "source": [
    "Map target label to String\n",
    "- 0 -> NEGATIVE\n",
    "- 2 -> NEUTRAL\n",
    "- 4 -> POSITIVE"
   ]
  },
  {
   "cell_type": "code",
   "execution_count": 14,
   "metadata": {},
   "outputs": [
    {
     "data": {
      "text/html": [
       "<div>\n",
       "<style scoped>\n",
       "    .dataframe tbody tr th:only-of-type {\n",
       "        vertical-align: middle;\n",
       "    }\n",
       "\n",
       "    .dataframe tbody tr th {\n",
       "        vertical-align: top;\n",
       "    }\n",
       "\n",
       "    .dataframe thead th {\n",
       "        text-align: right;\n",
       "    }\n",
       "</style>\n",
       "<table border=\"1\" class=\"dataframe\">\n",
       "  <thead>\n",
       "    <tr style=\"text-align: right;\">\n",
       "      <th></th>\n",
       "      <th>target</th>\n",
       "      <th>ids</th>\n",
       "      <th>date</th>\n",
       "      <th>flag</th>\n",
       "      <th>user</th>\n",
       "      <th>text</th>\n",
       "    </tr>\n",
       "  </thead>\n",
       "  <tbody>\n",
       "    <tr>\n",
       "      <th>0</th>\n",
       "      <td>NEGATIVE</td>\n",
       "      <td>1467810369</td>\n",
       "      <td>Mon Apr 06 22:19:45 PDT 2009</td>\n",
       "      <td>NO_QUERY</td>\n",
       "      <td>_TheSpecialOne_</td>\n",
       "      <td>@switchfoot http://twitpic.com/2y1zl - Awww, t...</td>\n",
       "    </tr>\n",
       "    <tr>\n",
       "      <th>1</th>\n",
       "      <td>NEGATIVE</td>\n",
       "      <td>1467810672</td>\n",
       "      <td>Mon Apr 06 22:19:49 PDT 2009</td>\n",
       "      <td>NO_QUERY</td>\n",
       "      <td>scotthamilton</td>\n",
       "      <td>is upset that he can't update his Facebook by ...</td>\n",
       "    </tr>\n",
       "    <tr>\n",
       "      <th>2</th>\n",
       "      <td>NEGATIVE</td>\n",
       "      <td>1467810917</td>\n",
       "      <td>Mon Apr 06 22:19:53 PDT 2009</td>\n",
       "      <td>NO_QUERY</td>\n",
       "      <td>mattycus</td>\n",
       "      <td>@Kenichan I dived many times for the ball. Man...</td>\n",
       "    </tr>\n",
       "    <tr>\n",
       "      <th>3</th>\n",
       "      <td>NEGATIVE</td>\n",
       "      <td>1467811184</td>\n",
       "      <td>Mon Apr 06 22:19:57 PDT 2009</td>\n",
       "      <td>NO_QUERY</td>\n",
       "      <td>ElleCTF</td>\n",
       "      <td>my whole body feels itchy and like its on fire</td>\n",
       "    </tr>\n",
       "    <tr>\n",
       "      <th>4</th>\n",
       "      <td>NEGATIVE</td>\n",
       "      <td>1467811193</td>\n",
       "      <td>Mon Apr 06 22:19:57 PDT 2009</td>\n",
       "      <td>NO_QUERY</td>\n",
       "      <td>Karoli</td>\n",
       "      <td>@nationwideclass no, it's not behaving at all....</td>\n",
       "    </tr>\n",
       "  </tbody>\n",
       "</table>\n",
       "</div>"
      ],
      "text/plain": [
       "     target         ids                          date      flag  \\\n",
       "0  NEGATIVE  1467810369  Mon Apr 06 22:19:45 PDT 2009  NO_QUERY   \n",
       "1  NEGATIVE  1467810672  Mon Apr 06 22:19:49 PDT 2009  NO_QUERY   \n",
       "2  NEGATIVE  1467810917  Mon Apr 06 22:19:53 PDT 2009  NO_QUERY   \n",
       "3  NEGATIVE  1467811184  Mon Apr 06 22:19:57 PDT 2009  NO_QUERY   \n",
       "4  NEGATIVE  1467811193  Mon Apr 06 22:19:57 PDT 2009  NO_QUERY   \n",
       "\n",
       "              user                                               text  \n",
       "0  _TheSpecialOne_  @switchfoot http://twitpic.com/2y1zl - Awww, t...  \n",
       "1    scotthamilton  is upset that he can't update his Facebook by ...  \n",
       "2         mattycus  @Kenichan I dived many times for the ball. Man...  \n",
       "3          ElleCTF    my whole body feels itchy and like its on fire   \n",
       "4           Karoli  @nationwideclass no, it's not behaving at all....  "
      ]
     },
     "execution_count": 14,
     "metadata": {},
     "output_type": "execute_result"
    }
   ],
   "source": [
    "\n",
    "decode_map = {0 : \"NEGATIVE\",2 : \"NEUTRAL\", 4 : \"POSITIVE\"}\n",
    "df.target = df.target.apply(lambda x : decode_map[x])\n",
    "df.head()"
   ]
  },
  {
   "cell_type": "code",
   "execution_count": 15,
   "metadata": {},
   "outputs": [
    {
     "data": {
      "image/png": "[encoded data removed]",
      "text/plain": [
       "<Figure size 720x432 with 1 Axes>"
      ]
     },
     "metadata": {
      "needs_background": "light"
     },
     "output_type": "display_data"
    }
   ],
   "source": [
    "target_cnt = Counter(df.target)\n",
    "\n",
    "plt.figure(figsize = (10,6))\n",
    "plt.bar(target_cnt.keys(),target_cnt.values())\n",
    "plt.title(\"Dataset labels distributions\")\n",
    "plt.show()"
   ]
  },
  {
   "cell_type": "markdown",
   "metadata": {},
   "source": [
    "## Pre-process data "
   ]
  },
  {
   "cell_type": "markdown",
   "metadata": {},
   "source": [
    "Using stopwords might reduce the model performance. Some words like 'not' are included in stopwords and ignoring them will make sentences like 'this was good' and 'this was not good' have same predictions."
   ]
  },
  {
   "cell_type": "code",
   "execution_count": 16,
   "metadata": {},
   "outputs": [],
   "source": [
    "stop_words = stopwords.words(\"english\")\n",
    "stop_words.remove(\"not\") \n",
    "stemmer = SnowballStemmer(\"english\")"
   ]
  },
  {
   "cell_type": "code",
   "execution_count": 17,
   "metadata": {},
   "outputs": [
    {
     "data": {
      "text/html": [
       "<div>\n",
       "<style scoped>\n",
       "    .dataframe tbody tr th:only-of-type {\n",
       "        vertical-align: middle;\n",
       "    }\n",
       "\n",
       "    .dataframe tbody tr th {\n",
       "        vertical-align: top;\n",
       "    }\n",
       "\n",
       "    .dataframe thead th {\n",
       "        text-align: right;\n",
       "    }\n",
       "</style>\n",
       "<table border=\"1\" class=\"dataframe\">\n",
       "  <thead>\n",
       "    <tr style=\"text-align: right;\">\n",
       "      <th></th>\n",
       "      <th>target</th>\n",
       "      <th>ids</th>\n",
       "      <th>date</th>\n",
       "      <th>flag</th>\n",
       "      <th>user</th>\n",
       "      <th>text</th>\n",
       "    </tr>\n",
       "  </thead>\n",
       "  <tbody>\n",
       "    <tr>\n",
       "      <th>0</th>\n",
       "      <td>NEGATIVE</td>\n",
       "      <td>1467810369</td>\n",
       "      <td>Mon Apr 06 22:19:45 PDT 2009</td>\n",
       "      <td>NO_QUERY</td>\n",
       "      <td>_TheSpecialOne_</td>\n",
       "      <td>awww bummer shoulda got david carr third day</td>\n",
       "    </tr>\n",
       "    <tr>\n",
       "      <th>1</th>\n",
       "      <td>NEGATIVE</td>\n",
       "      <td>1467810672</td>\n",
       "      <td>Mon Apr 06 22:19:49 PDT 2009</td>\n",
       "      <td>NO_QUERY</td>\n",
       "      <td>scotthamilton</td>\n",
       "      <td>upset update facebook texting might cry result...</td>\n",
       "    </tr>\n",
       "    <tr>\n",
       "      <th>2</th>\n",
       "      <td>NEGATIVE</td>\n",
       "      <td>1467810917</td>\n",
       "      <td>Mon Apr 06 22:19:53 PDT 2009</td>\n",
       "      <td>NO_QUERY</td>\n",
       "      <td>mattycus</td>\n",
       "      <td>dived many times ball managed save 50 rest go ...</td>\n",
       "    </tr>\n",
       "    <tr>\n",
       "      <th>3</th>\n",
       "      <td>NEGATIVE</td>\n",
       "      <td>1467811184</td>\n",
       "      <td>Mon Apr 06 22:19:57 PDT 2009</td>\n",
       "      <td>NO_QUERY</td>\n",
       "      <td>ElleCTF</td>\n",
       "      <td>whole body feels itchy like fire</td>\n",
       "    </tr>\n",
       "    <tr>\n",
       "      <th>4</th>\n",
       "      <td>NEGATIVE</td>\n",
       "      <td>1467811193</td>\n",
       "      <td>Mon Apr 06 22:19:57 PDT 2009</td>\n",
       "      <td>NO_QUERY</td>\n",
       "      <td>Karoli</td>\n",
       "      <td>not behaving mad see</td>\n",
       "    </tr>\n",
       "  </tbody>\n",
       "</table>\n",
       "</div>"
      ],
      "text/plain": [
       "     target         ids                          date      flag  \\\n",
       "0  NEGATIVE  1467810369  Mon Apr 06 22:19:45 PDT 2009  NO_QUERY   \n",
       "1  NEGATIVE  1467810672  Mon Apr 06 22:19:49 PDT 2009  NO_QUERY   \n",
       "2  NEGATIVE  1467810917  Mon Apr 06 22:19:53 PDT 2009  NO_QUERY   \n",
       "3  NEGATIVE  1467811184  Mon Apr 06 22:19:57 PDT 2009  NO_QUERY   \n",
       "4  NEGATIVE  1467811193  Mon Apr 06 22:19:57 PDT 2009  NO_QUERY   \n",
       "\n",
       "              user                                               text  \n",
       "0  _TheSpecialOne_       awww bummer shoulda got david carr third day  \n",
       "1    scotthamilton  upset update facebook texting might cry result...  \n",
       "2         mattycus  dived many times ball managed save 50 rest go ...  \n",
       "3          ElleCTF                   whole body feels itchy like fire  \n",
       "4           Karoli                               not behaving mad see  "
      ]
     },
     "execution_count": 17,
     "metadata": {},
     "output_type": "execute_result"
    }
   ],
   "source": [
    "\n",
    "def preprocess(text,stem = False) :\n",
    "    pattern = r'@\\S+|https?:\\S+|http?:\\S|[^A-Za-z0-9]+' #r'@\\S+|http\\S+|[^A-Za-z0-9]+' \n",
    "    text = re.sub(pattern, \" \",str(text).lower()).strip()\n",
    "    text = \" \".join([text_ for text_ in text.split() if text_ not in stop_words])\n",
    "    if stem :\n",
    "        \n",
    "        text = \" \".join([stemmer.stem(text_) for text_ in text.split()])\n",
    "    \n",
    "    return text\n",
    "    \n",
    "df.text = df.text.apply(lambda x : preprocess(x))\n",
    "df.head()"
   ]
  },
  {
   "cell_type": "markdown",
   "metadata": {},
   "source": [
    "# split train/test "
   ]
  },
  {
   "cell_type": "code",
   "execution_count": 18,
   "metadata": {},
   "outputs": [
    {
     "name": "stdout",
     "output_type": "stream",
     "text": [
      "Train size : 1280000\n",
      "Test size : 320000\n"
     ]
    }
   ],
   "source": [
    "df_train, df_test = train_test_split(df, test_size = 0.2, random_state = 42)\n",
    "print(\"Train size :\",len(df_train))\n",
    "print(\"Test size :\",len(df_test))"
   ]
  },
  {
   "cell_type": "markdown",
   "metadata": {},
   "source": [
    "# Word2Vec"
   ]
  },
  {
   "cell_type": "markdown",
   "metadata": {},
   "source": [
    "Word2Vec va nous servir pour la couche d'embedding, donc pas tout de suite"
   ]
  },
  {
   "cell_type": "code",
   "execution_count": 19,
   "metadata": {},
   "outputs": [],
   "source": [
    "\n",
    "documents = [_text.split() for _text in df_train.text]\n",
    "\n",
    "W2V_SIZE = 300\n",
    "W2V_WINDOW = 7\n",
    "W2V_EPOCH = 32\n",
    "W2V_MIN_COUNT = 10\n",
    "\n",
    "w2v_model = gensim.models.word2vec.Word2Vec(size = W2V_SIZE,\n",
    "                                           window = W2V_WINDOW,\n",
    "                                           min_count = W2V_MIN_COUNT,\n",
    "                                           workers = 8)\n",
    "w2v_model.build_vocab(documents)"
   ]
  },
  {
   "cell_type": "code",
   "execution_count": 20,
   "metadata": {},
   "outputs": [
    {
     "name": "stdout",
     "output_type": "stream",
     "text": [
      "Vocab size : 30370\n"
     ]
    }
   ],
   "source": [
    "words = w2v_model.wv.vocab.keys()\n",
    "vocab_size = len(words)\n",
    "print(\"Vocab size :\",vocab_size)"
   ]
  },
  {
   "cell_type": "code",
   "execution_count": 21,
   "metadata": {},
   "outputs": [
    {
     "data": {
      "text/plain": [
       "(264543663, 298054304)"
      ]
     },
     "execution_count": 21,
     "metadata": {},
     "output_type": "execute_result"
    }
   ],
   "source": [
    "\n",
    "w2v_model.train(documents, total_examples = len(documents), epochs = W2V_EPOCH)"
   ]
  },
  {
   "cell_type": "code",
   "execution_count": 22,
   "metadata": {},
   "outputs": [
    {
     "name": "stderr",
     "output_type": "stream",
     "text": [
      "C:\\Users\\badre\\Anaconda3\\lib\\site-packages\\ipykernel_launcher.py:1: DeprecationWarning: Call to deprecated `most_similar` (Method will be removed in 4.0.0, use self.wv.most_similar() instead).\n",
      "  \"\"\"Entry point for launching an IPython kernel.\n"
     ]
    },
    {
     "data": {
      "text/plain": [
       "[('luv', 0.5840849280357361),\n",
       " ('loves', 0.5672263503074646),\n",
       " ('loved', 0.5314806699752808),\n",
       " ('adore', 0.5051390528678894),\n",
       " ('amazing', 0.5037234425544739),\n",
       " ('looove', 0.4898017346858978),\n",
       " ('loveee', 0.48025161027908325),\n",
       " ('awesome', 0.47475117444992065),\n",
       " ('lovee', 0.45713791251182556),\n",
       " ('miss', 0.439153254032135)]"
      ]
     },
     "execution_count": 22,
     "metadata": {},
     "output_type": "execute_result"
    }
   ],
   "source": [
    "w2v_model.most_similar(\"love\")"
   ]
  },
  {
   "cell_type": "markdown",
   "metadata": {},
   "source": [
    "# Tokenize Text"
   ]
  },
  {
   "cell_type": "code",
   "execution_count": 23,
   "metadata": {},
   "outputs": [
    {
     "name": "stdout",
     "output_type": "stream",
     "text": [
      "Total words 290420\n"
     ]
    }
   ],
   "source": [
    "\n",
    "tokenizer = Tokenizer()\n",
    "tokenizer.fit_on_texts(df_train.text) #chaque mot est associé à un numéro, par exemple \"good\" : 65645\n",
    "\n",
    "vocab_size = len(tokenizer.word_index) + 1 # +1 pour UNK words\n",
    "print(\"Total words\", vocab_size)"
   ]
  },
  {
   "cell_type": "code",
   "execution_count": 24,
   "metadata": {},
   "outputs": [],
   "source": [
    "\n",
    "\n",
    "SEQUENCE_LENGTH = 300\n",
    "\n",
    "#on transforme chaque phrase en suite d'element indicé grace au tokenizer\n",
    "#on pad pour avoir la même longueur\n",
    "x_train = pad_sequences(tokenizer.texts_to_sequences(df_train.text), maxlen = SEQUENCE_LENGTH) \n",
    "x_test = pad_sequences(tokenizer.texts_to_sequences(df_test.text),maxlen = SEQUENCE_LENGTH)"
   ]
  },
  {
   "cell_type": "markdown",
   "metadata": {},
   "source": [
    "# Label Encoder"
   ]
  },
  {
   "cell_type": "markdown",
   "metadata": {},
   "source": [
    "0 c'est sentiment positive et 1 c'est sentiment négatif, il faut que chaque élément soit sous forme de liste [1] ou [0] pour que keras marche "
   ]
  },
  {
   "cell_type": "code",
   "execution_count": null,
   "metadata": {},
   "outputs": [
    {
     "name": "stdout",
     "output_type": "stream",
     "text": [
      "y_train (1280000, 1)\n",
      "y_test (320000, 1)\n"
     ]
    }
   ],
   "source": [
    "encoder = LabelEncoder()\n",
    "encoder.fit(df_train.target.tolist())\n",
    "y_train = encoder.transform(df_train.target.tolist())\n",
    "y_test = encoder.transform(df_test.target.tolist())\n",
    "\n",
    "y_train = y_train.reshape(-1,1)\n",
    "y_test = y_test.reshape(-1,1)\n",
    "\n",
    "\n",
    "print(\"y_train\",y_train.shape)\n",
    "print(\"y_test\",y_test.shape)"
   ]
  },
  {
   "cell_type": "code",
   "execution_count": null,
   "metadata": {},
   "outputs": [
    {
     "name": "stdout",
     "output_type": "stream",
     "text": [
      "x_train (1280000, 300)\n",
      "y_train (1280000, 1)\n",
      "\n",
      "x_test (320000, 300)\n",
      "y_test (320000, 1)\n"
     ]
    }
   ],
   "source": [
    "print(\"x_train\", x_train.shape)\n",
    "print(\"y_train\", y_train.shape)\n",
    "print()\n",
    "print(\"x_test\", x_test.shape)\n",
    "print(\"y_test\", y_test.shape)"
   ]
  },
  {
   "cell_type": "markdown",
   "metadata": {},
   "source": [
    "# Embedding layer"
   ]
  },
  {
   "cell_type": "markdown",
   "metadata": {},
   "source": [
    "on se sert de word2vec"
   ]
  },
  {
   "cell_type": "code",
   "execution_count": null,
   "metadata": {},
   "outputs": [
    {
     "name": "stdout",
     "output_type": "stream",
     "text": [
      "(290420, 300)\n"
     ]
    }
   ],
   "source": [
    "embedding_matrix = np.zeros((vocab_size,W2V_SIZE)) #ligne de la matrice d'embedding sont les mots et les colonnes l'encodage du mot\n",
    "\n",
    "for word, i in tokenizer.word_index.items(): #tokenizer.word_index c'est le dico {mot : i for (mot,i) in enumerate(nombres_mots)}\n",
    "    if word in w2v_model.wv : #si le mot est dans le w2v construit\n",
    "        embedding_matrix[i] = w2v_model.wv[word] #on met à la ligne correspond au mot son encodage w2v\n",
    "\n",
    "print(embedding_matrix.shape)"
   ]
  },
  {
   "cell_type": "code",
   "execution_count": null,
   "metadata": {},
   "outputs": [
    {
     "name": "stdout",
     "output_type": "stream",
     "text": [
      "WARNING:tensorflow:From C:\\Users\\badre\\Anaconda3\\lib\\site-packages\\keras\\backend\\tensorflow_backend.py:74: The name tf.get_default_graph is deprecated. Please use tf.compat.v1.get_default_graph instead.\n",
      "\n"
     ]
    }
   ],
   "source": [
    "embedding_layer = Embedding(vocab_size, W2V_SIZE , weights = [embedding_matrix], \n",
    "                            input_length = SEQUENCE_LENGTH, trainable = False)"
   ]
  },
  {
   "cell_type": "markdown",
   "metadata": {},
   "source": [
    "# Model"
   ]
  },
  {
   "cell_type": "code",
   "execution_count": null,
   "metadata": {},
   "outputs": [
    {
     "name": "stdout",
     "output_type": "stream",
     "text": [
      "WARNING:tensorflow:From C:\\Users\\badre\\Anaconda3\\lib\\site-packages\\keras\\backend\\tensorflow_backend.py:517: The name tf.placeholder is deprecated. Please use tf.compat.v1.placeholder instead.\n",
      "\n",
      "WARNING:tensorflow:From C:\\Users\\badre\\Anaconda3\\lib\\site-packages\\keras\\backend\\tensorflow_backend.py:4138: The name tf.random_uniform is deprecated. Please use tf.random.uniform instead.\n",
      "\n",
      "WARNING:tensorflow:From C:\\Users\\badre\\Anaconda3\\lib\\site-packages\\keras\\backend\\tensorflow_backend.py:174: The name tf.get_default_session is deprecated. Please use tf.compat.v1.get_default_session instead.\n",
      "\n",
      "WARNING:tensorflow:From C:\\Users\\badre\\Anaconda3\\lib\\site-packages\\keras\\backend\\tensorflow_backend.py:181: The name tf.ConfigProto is deprecated. Please use tf.compat.v1.ConfigProto instead.\n",
      "\n",
      "WARNING:tensorflow:From C:\\Users\\badre\\Anaconda3\\lib\\site-packages\\keras\\backend\\tensorflow_backend.py:3445: calling dropout (from tensorflow.python.ops.nn_ops) with keep_prob is deprecated and will be removed in a future version.\n",
      "Instructions for updating:\n",
      "Please use `rate` instead of `keep_prob`. Rate should be set to `rate = 1 - keep_prob`.\n",
      "_________________________________________________________________\n",
      "Layer (type)                 Output Shape              Param #   \n",
      "=================================================================\n",
      "embedding_1 (Embedding)      (None, 300, 300)          87126000  \n",
      "_________________________________________________________________\n",
      "dropout_1 (Dropout)          (None, 300, 300)          0         \n",
      "_________________________________________________________________\n",
      "lstm_1 (LSTM)                (None, 100)               160400    \n",
      "_________________________________________________________________\n",
      "dense_1 (Dense)              (None, 1)                 101       \n",
      "=================================================================\n",
      "Total params: 87,286,501\n",
      "Trainable params: 160,501\n",
      "Non-trainable params: 87,126,000\n",
      "_________________________________________________________________\n"
     ]
    }
   ],
   "source": [
    "model = Sequential()\n",
    "model.add(embedding_layer)\n",
    "model.add(Dropout(0.5))\n",
    "model.add(LSTM(100,dropout = 0.2, recurrent_dropout = 0.2))\n",
    "model.add(Dense(1,activation = 'sigmoid'))\n",
    "\n",
    "model.summary()"
   ]
  },
  {
   "cell_type": "code",
   "execution_count": null,
   "metadata": {},
   "outputs": [
    {
     "name": "stdout",
     "output_type": "stream",
     "text": [
      "WARNING:tensorflow:From C:\\Users\\badre\\Anaconda3\\lib\\site-packages\\keras\\optimizers.py:790: The name tf.train.Optimizer is deprecated. Please use tf.compat.v1.train.Optimizer instead.\n",
      "\n",
      "WARNING:tensorflow:From C:\\Users\\badre\\Anaconda3\\lib\\site-packages\\tensorflow\\python\\ops\\nn_impl.py:180: add_dispatch_support.<locals>.wrapper (from tensorflow.python.ops.array_ops) is deprecated and will be removed in a future version.\n",
      "Instructions for updating:\n",
      "Use tf.where in 2.0, which has the same broadcast rule as np.where\n"
     ]
    }
   ],
   "source": [
    "model.compile(loss = \"binary_crossentropy\", \n",
    "             optimizer = \"adam\",\n",
    "             metrics = [\"accuracy\"])"
   ]
  },
  {
   "cell_type": "code",
   "execution_count": null,
   "metadata": {},
   "outputs": [],
   "source": [
    "callbacks = [ ReduceLROnPlateau(monitor=\"val_loss\", patience = 3, cooldown = 0),\n",
    "            EarlyStopping(monitor = \"val_acc\", min_delta = 1e-4, patience = 5)]"
   ]
  },
  {
   "cell_type": "markdown",
   "metadata": {},
   "source": [
    "# Train"
   ]
  },
  {
   "cell_type": "code",
   "execution_count": null,
   "metadata": {},
   "outputs": [
    {
     "name": "stdout",
     "output_type": "stream",
     "text": [
      "Train on 1152000 samples, validate on 128000 samples\n",
      "Epoch 1/5\n",
      " 132096/1152000 [==>...........................] - ETA: 5:20:22 - loss: 0.5506 - acc: 0.7169"
     ]
    }
   ],
   "source": [
    "\n",
    "EPOCHS = 5\n",
    "BATCH_SIZE = 1024\n",
    "\n",
    "\n",
    "history = model.fit(x_train, y_train,\n",
    "                   batch_size = BATCH_SIZE,\n",
    "                   epochs = EPOCHS,\n",
    "                   validation_split = 0.1,\n",
    "                   verbose = 1,\n",
    "                   callbacks = callbacks)"
   ]
  },
  {
   "cell_type": "markdown",
   "metadata": {},
   "source": [
    "# Evaluate"
   ]
  },
  {
   "cell_type": "code",
   "execution_count": 319,
   "metadata": {},
   "outputs": [
    {
     "name": "stdout",
     "output_type": "stream",
     "text": [
      "320000/320000 [==============================] - 338s 1ms/step\n",
      "\n",
      "ACCURACY : 0.7885156273841858\n",
      "LOSS : 0.448554283618927\n",
      "CPU times: user 19min 57s, sys: 9min 23s, total: 29min 20s\n",
      "Wall time: 5min 38s\n"
     ]
    }
   ],
   "source": [
    "%%time \n",
    "score = model.evaluate(x_test,y_test, batch_size = BATCH_SIZE)\n",
    "print()\n",
    "print(\"ACCURACY :\",score[1])\n",
    "print(\"LOSS :\",score[0])"
   ]
  },
  {
   "cell_type": "code",
   "execution_count": 326,
   "metadata": {},
   "outputs": [
    {
     "data": {
      "image/png": "[encoded data removed]",
      "text/plain": [
       "<Figure size 432x288 with 1 Axes>"
      ]
     },
     "metadata": {
      "needs_background": "light"
     },
     "output_type": "display_data"
    },
    {
     "data": {
      "image/png": "[encoded data removed]",
      "text/plain": [
       "<Figure size 432x288 with 1 Axes>"
      ]
     },
     "metadata": {
      "needs_background": "light"
     },
     "output_type": "display_data"
    }
   ],
   "source": [
    "acc = history.history['accuracy']\n",
    "val_acc = history.history['val_accuracy']\n",
    "loss = history.history['loss']\n",
    "val_loss = history.history['val_loss']\n",
    "\n",
    "\n",
    "epochs = range(len(acc))\n",
    "\n",
    "plt.plot(epochs, acc, 'b', label = 'Training acc' )\n",
    "plt.plot(epochs , val_acc,'r', label = 'validation_acc')\n",
    "plt.title('Training and validation accuracy')\n",
    "plt.legend()\n",
    "\n",
    "plt.figure()\n",
    "\n",
    "plt.plot(epochs, loss, 'b', label = 'Training loss')\n",
    "plt.plot(epochs, val_loss, 'r', label = 'Validation loss')\n",
    "plt.title(\"Training and validation loss\")\n",
    "plt.legend()\n",
    "\n",
    "plt.show()"
   ]
  },
  {
   "cell_type": "code",
   "execution_count": 3,
   "metadata": {},
   "outputs": [],
   "source": [
    "SENTIMENT_THRESHOLDS = (0.4, 0.7)\n",
    "SEQUENCE_LENGTH = 300\n",
    "def decode_sentiment(score, include_neutral = True):\n",
    "    if include_neutral : \n",
    "        label = \"NEUTRAL\"\n",
    "        if score <= SENTIMENT_THRESHOLDS[0] :\n",
    "            label = \"NEGATIVE\"\n",
    "        elif score >= SENTIMENT_THRESHOLDS[1] :\n",
    "            label = \"POSITIVE\"\n",
    "        \n",
    "        return label\n",
    "    else : \n",
    "        return \"NEGATIVE\" if score < 0.5 else \"POSITIVE\"\n",
    "    \n",
    "    "
   ]
  },
  {
   "cell_type": "code",
   "execution_count": 5,
   "metadata": {},
   "outputs": [],
   "source": [
    "#on doit preprocesser les phrases que l'on passe dans le modèle et cela nous permet de le faire\n",
    "def predict(text, include_neutral = True) : \n",
    "    start_at = time.time()\n",
    "    \n",
    "    #on doit tokenizer la phrase puis pad la séquences pour le passer dans notre modèle\n",
    "    x_test = pad_sequences(tokenizer.texts_to_sequences([text]), maxlen = SEQUENCE_LENGTH)\n",
    "    \n",
    "    score = model.predict([x_test])[0] #on trouve la probabilité associé\n",
    "    \n",
    "    label = decode_sentiment(score,include_neutral = include_neutral) #on la classe en positive ou négative\n",
    "    \n",
    "    return {\"label\" : label , \"score\": float(score),\n",
    "           \"elapsed time\": time.time()-start_at}\n"
   ]
  },
  {
   "cell_type": "code",
   "execution_count": 390,
   "metadata": {},
   "outputs": [
    {
     "data": {
      "text/plain": [
       "{'label': 'POSITIVE',\n",
       " 'score': 0.9775521755218506,\n",
       " 'elapsed time': 0.020482778549194336}"
      ]
     },
     "execution_count": 390,
     "metadata": {},
     "output_type": "execute_result"
    }
   ],
   "source": [
    "predict(\"I love the music\")"
   ]
  },
  {
   "cell_type": "code",
   "execution_count": 391,
   "metadata": {},
   "outputs": [
    {
     "data": {
      "text/plain": [
       "{'label': 'NEGATIVE',\n",
       " 'score': 0.012892383150756359,\n",
       " 'elapsed time': 0.021337032318115234}"
      ]
     },
     "execution_count": 391,
     "metadata": {},
     "output_type": "execute_result"
    }
   ],
   "source": [
    "predict(\"I hate the rain\")\n"
   ]
  },
  {
   "cell_type": "code",
   "execution_count": 392,
   "metadata": {},
   "outputs": [
    {
     "data": {
      "text/plain": [
       "{'label': 'NEGATIVE',\n",
       " 'score': 0.3571109175682068,\n",
       " 'elapsed time': 0.02018117904663086}"
      ]
     },
     "execution_count": 392,
     "metadata": {},
     "output_type": "execute_result"
    }
   ],
   "source": [
    "predict(\"i don't know what i'm doing\")"
   ]
  },
  {
   "cell_type": "code",
   "execution_count": 395,
   "metadata": {},
   "outputs": [
    {
     "data": {
      "text/plain": [
       "{'label': 'NEGATIVE',\n",
       " 'score': 0.4919613301753998,\n",
       " 'elapsed time': 0.024986982345581055}"
      ]
     },
     "execution_count": 395,
     "metadata": {},
     "output_type": "execute_result"
    }
   ],
   "source": [
    "predict(\"The euroscepticism gain european countries\",include_neutral = False)"
   ]
  },
  {
   "cell_type": "markdown",
   "metadata": {},
   "source": [
    "# Confusion matrix"
   ]
  },
  {
   "cell_type": "code",
   "execution_count": 344,
   "metadata": {},
   "outputs": [
    {
     "name": "stdout",
     "output_type": "stream",
     "text": [
      "320000/320000 [==============================] - 456s 1ms/step\n",
      "CPU times: user 19min 46s, sys: 12min 34s, total: 32min 20s\n",
      "Wall time: 7min 36s\n"
     ]
    }
   ],
   "source": [
    "%%time \n",
    "y_pred_1d = []\n",
    "y_test_1d = list(df_test.target)\n",
    "scores = model.predict(x_test, verbose = 1, batch_size = 8000) #donne une proba\n",
    "y_pred_1d = [decode_sentiment(score, include_neutral = False) for score in scores] #transforme en positive/negative/neutral"
   ]
  },
  {
   "cell_type": "code",
   "execution_count": 352,
   "metadata": {},
   "outputs": [],
   "source": [
    "def plot_confusion_matrix(cm, classes, title = 'Confusion matrix', cmap = plt.cm.Blues) : \n",
    "    \n",
    "    \"Print and plot the confusion matrix\"\n",
    "    \n",
    "    cm = cm.astype('float') / cm.sum(axis= 1) [:,np.newaxis]\n",
    "    \n",
    "    plt.imshow(cm, interpolation = 'nearest', cmap = cmap)\n",
    "    plt.title(title, fontsize = 30)\n",
    "    plt.colorbar()\n",
    "    tick_marks = np.arange(len(classes))\n",
    "    plt.xticks(tick_marks, classes, rotation = 90, fontsize = 32)\n",
    "    plt.yticks(tick_marks, classes, fontsize = 22)\n",
    "    \n",
    "    fmt = '.2f'\n",
    "    thresh = cm.max() / 2\n",
    "    for i, j in itertools.product(range(cm.shape[0]),range(cm.shape[1])) :\n",
    "        plt.text(j,i, format(cm[i,j], fmt),\n",
    "                horizontalalignment = 'center',\n",
    "                color = \"white\" if cm[i,j] > thresh else \"black\") \n",
    "        \n",
    "    plt.ylabel(\"True label\", fontsize = 25)\n",
    "    plt.xlabel(\"Predict label\", fontsize = 25)"
   ]
  },
  {
   "cell_type": "code",
   "execution_count": 368,
   "metadata": {},
   "outputs": [
    {
     "data": {
      "text/plain": [
       "array([[123946,  35548],\n",
       "       [ 32127, 128379]])"
      ]
     },
     "execution_count": 368,
     "metadata": {},
     "output_type": "execute_result"
    }
   ],
   "source": [
    "cnf_matrix"
   ]
  },
  {
   "cell_type": "code",
   "execution_count": 353,
   "metadata": {},
   "outputs": [
    {
     "data": {
      "image/png": "[encoded data removed]",
      "text/plain": [
       "<Figure size 864x864 with 2 Axes>"
      ]
     },
     "metadata": {
      "needs_background": "light"
     },
     "output_type": "display_data"
    },
    {
     "name": "stdout",
     "output_type": "stream",
     "text": [
      "CPU times: user 949 ms, sys: 46.4 ms, total: 995 ms\n",
      "Wall time: 1 s\n"
     ]
    }
   ],
   "source": [
    "%%time \n",
    "\n",
    "cnf_matrix = confusion_matrix(y_test_1d,y_pred_1d) #donne le résultat de la matrice \n",
    "plt.figure(figsize = (12,12))\n",
    "plot_confusion_matrix(cnf_matrix, classes = df_train.target.unique(), title = \"Confusion matrix\")\n",
    "plt.show()"
   ]
  },
  {
   "cell_type": "markdown",
   "metadata": {},
   "source": [
    "# Classification report"
   ]
  },
  {
   "cell_type": "code",
   "execution_count": 8,
   "metadata": {},
   "outputs": [
    {
     "ename": "NameError",
     "evalue": "name 'y_test_1d' is not defined",
     "output_type": "error",
     "traceback": [
      "\u001b[1;31m---------------------------------------------------------------------------\u001b[0m",
      "\u001b[1;31mNameError\u001b[0m                                 Traceback (most recent call last)",
      "\u001b[1;32m<ipython-input-8-6527e7f02737>\u001b[0m in \u001b[0;36m<module>\u001b[1;34m\u001b[0m\n\u001b[1;32m----> 1\u001b[1;33m \u001b[0mprint\u001b[0m\u001b[1;33m(\u001b[0m\u001b[0mclassification_report\u001b[0m\u001b[1;33m(\u001b[0m\u001b[0my_test_1d\u001b[0m\u001b[1;33m,\u001b[0m \u001b[0my_pred_1d\u001b[0m\u001b[1;33m)\u001b[0m\u001b[1;33m)\u001b[0m\u001b[1;33m\u001b[0m\u001b[1;33m\u001b[0m\u001b[0m\n\u001b[0m",
      "\u001b[1;31mNameError\u001b[0m: name 'y_test_1d' is not defined"
     ]
    }
   ],
   "source": [
    "print(classification_report(y_test_1d, y_pred_1d))"
   ]
  },
  {
   "cell_type": "markdown",
   "metadata": {},
   "source": [
    "# Accuracy Score"
   ]
  },
  {
   "cell_type": "code",
   "execution_count": 355,
   "metadata": {},
   "outputs": [
    {
     "data": {
      "text/plain": [
       "0.788515625"
      ]
     },
     "execution_count": 355,
     "metadata": {},
     "output_type": "execute_result"
    }
   ],
   "source": [
    "accuracy_score(y_test_1d, y_pred_1d)"
   ]
  },
  {
   "cell_type": "markdown",
   "metadata": {},
   "source": [
    "# Save model"
   ]
  },
  {
   "cell_type": "markdown",
   "metadata": {},
   "source": [
    "The models are saved for use later.\n",
    "\n",
    "You can load the models and then use the predict function to predict sentiment for the text.\n",
    "\n",
    "Keep in mind that you need to preprocess the text and encode it before prediction."
   ]
  },
  {
   "cell_type": "code",
   "execution_count": 357,
   "metadata": {},
   "outputs": [],
   "source": [
    "# EXPORT\n",
    "KERAS_MODEL = \"model.h5\"\n",
    "WORD2VEC_MODEL = \"model.w2v\"\n",
    "TOKENIZER_MODEL = \"tokenizer.pkl\"\n",
    "ENCODER_MODEL = \"encoder.pkl\"\n",
    "\n",
    "\n",
    "\n",
    "model.save(KERAS_MODEL)\n",
    "w2v_model.save(WORD2VEC_MODEL)\n",
    "pickle.dump(tokenizer, open(TOKENIZER_MODEL,\"wb\"),protocol = 0)\n",
    "pickle.dump(encoder, open(ENCODER_MODEL,\"wb\"), protocol = 0)"
   ]
  },
  {
   "cell_type": "markdown",
   "metadata": {},
   "source": [
    "# Load model "
   ]
  },
  {
   "cell_type": "markdown",
   "metadata": {},
   "source": [
    "We charge the model and we continue to train the model, tokenizer, word2vec ect.."
   ]
  },
  {
   "cell_type": "code",
   "execution_count": 7,
   "metadata": {},
   "outputs": [
    {
     "name": "stderr",
     "output_type": "stream",
     "text": [
      "C:\\Users\\badre\\AppData\\Roaming\\Python\\Python37\\site-packages\\sklearn\\base.py:334: UserWarning: Trying to unpickle estimator LabelEncoder from version 0.22.1 when using version 0.23.2. This might lead to breaking code or invalid results. Use at your own risk.\n",
      "  UserWarning)\n"
     ]
    }
   ],
   "source": [
    "KERAS_MODEL = \"model.h5\"\n",
    "WORD2VEC_MODEL = \"model.w2v\"\n",
    "TOKENIZER_MODEL = \"tokenizer.pkl\"\n",
    "ENCODER_MODEL = \"encoder.pkl\"\n",
    "model = keras.models.load_model(\"model.h5\")\n",
    "tokenizer = pickle.load(open(TOKENIZER_MODEL,\"rb\"))\n",
    "encoder = pickle.load(open(ENCODER_MODEL,\"rb\"))\n",
    "w2v_model = Word2Vec.load(\"model.w2v\")"
   ]
  },
  {
   "cell_type": "code",
   "execution_count": 8,
   "metadata": {},
   "outputs": [
    {
     "data": {
      "text/plain": [
       "{'label': 'NEGATIVE',\n",
       " 'score': 0.05846598744392395,\n",
       " 'elapsed time': 0.46774816513061523}"
      ]
     },
     "execution_count": 8,
     "metadata": {},
     "output_type": "execute_result"
    }
   ],
   "source": [
    "predict(\"The country is losing a lot of money unfortunately\")"
   ]
  },
  {
   "cell_type": "code",
   "execution_count": 9,
   "metadata": {},
   "outputs": [
    {
     "data": {
      "text/plain": [
       "{'label': 'POSITIVE',\n",
       " 'score': 0.8528748750686646,\n",
       " 'elapsed time': 0.06682085990905762}"
      ]
     },
     "execution_count": 9,
     "metadata": {},
     "output_type": "execute_result"
    }
   ],
   "source": [
    "predict(\"UAE is in good shape\")"
   ]
  },
  {
   "cell_type": "code",
   "execution_count": 10,
   "metadata": {},
   "outputs": [
    {
     "data": {
      "text/plain": [
       "{'label': 'POSITIVE',\n",
       " 'score': 0.6983655095100403,\n",
       " 'elapsed time': 0.059888601303100586}"
      ]
     },
     "execution_count": 10,
     "metadata": {},
     "output_type": "execute_result"
    }
   ],
   "source": [
    "predict(\"How the EU is helping railways ride out Covid-19\", False)"
   ]
  },
  {
   "cell_type": "code",
   "execution_count": 11,
   "metadata": {},
   "outputs": [
    {
     "data": {
      "text/plain": [
       "{'label': 'NEGATIVE',\n",
       " 'score': 0.20795145630836487,\n",
       " 'elapsed time': 0.05290508270263672}"
      ]
     },
     "execution_count": 11,
     "metadata": {},
     "output_type": "execute_result"
    }
   ],
   "source": [
    "predict(\"France chaos: Macron faces Frexit demands after EU 'abandoned' states during pandemic\",False)"
   ]
  },
  {
   "cell_type": "code",
   "execution_count": 12,
   "metadata": {},
   "outputs": [],
   "source": [
    "# maintenant il faut prédire les tweets de mon dataset et voir comment ça marche\n"
   ]
  },
  {
   "cell_type": "code",
   "execution_count": 9,
   "metadata": {},
   "outputs": [],
   "source": [
    "df_test = pd.read_csv(\"sentiment_analysis_english.csv\")"
   ]
  },
  {
   "cell_type": "code",
   "execution_count": 14,
   "metadata": {},
   "outputs": [
    {
     "data": {
      "text/plain": [
       "(250, 2)"
      ]
     },
     "execution_count": 14,
     "metadata": {},
     "output_type": "execute_result"
    }
   ],
   "source": [
    "df_test.shape"
   ]
  },
  {
   "cell_type": "code",
   "execution_count": 15,
   "metadata": {},
   "outputs": [
    {
     "data": {
      "text/html": [
       "<div>\n",
       "<style scoped>\n",
       "    .dataframe tbody tr th:only-of-type {\n",
       "        vertical-align: middle;\n",
       "    }\n",
       "\n",
       "    .dataframe tbody tr th {\n",
       "        vertical-align: top;\n",
       "    }\n",
       "\n",
       "    .dataframe thead th {\n",
       "        text-align: right;\n",
       "    }\n",
       "</style>\n",
       "<table border=\"1\" class=\"dataframe\">\n",
       "  <thead>\n",
       "    <tr style=\"text-align: right;\">\n",
       "      <th></th>\n",
       "      <th>text</th>\n",
       "      <th>label</th>\n",
       "    </tr>\n",
       "  </thead>\n",
       "  <tbody>\n",
       "    <tr>\n",
       "      <th>0</th>\n",
       "      <td>Malaysian MPs are being sworn into Parliament ...</td>\n",
       "      <td>2</td>\n",
       "    </tr>\n",
       "    <tr>\n",
       "      <th>1</th>\n",
       "      <td>Modiji please understand state of mind of peac...</td>\n",
       "      <td>2</td>\n",
       "    </tr>\n",
       "    <tr>\n",
       "      <th>2</th>\n",
       "      <td>BBC Sport Fifa reforms more vital than new pre...</td>\n",
       "      <td>4</td>\n",
       "    </tr>\n",
       "    <tr>\n",
       "      <th>3</th>\n",
       "      <td>Yarnell Hill Fire lawsuits settle for $670,000...</td>\n",
       "      <td>2</td>\n",
       "    </tr>\n",
       "    <tr>\n",
       "      <th>4</th>\n",
       "      <td>After they cited our business climate reforms....</td>\n",
       "      <td>0</td>\n",
       "    </tr>\n",
       "  </tbody>\n",
       "</table>\n",
       "</div>"
      ],
      "text/plain": [
       "                                                text  label\n",
       "0  Malaysian MPs are being sworn into Parliament ...      2\n",
       "1  Modiji please understand state of mind of peac...      2\n",
       "2  BBC Sport Fifa reforms more vital than new pre...      4\n",
       "3  Yarnell Hill Fire lawsuits settle for $670,000...      2\n",
       "4  After they cited our business climate reforms....      0"
      ]
     },
     "execution_count": 15,
     "metadata": {},
     "output_type": "execute_result"
    }
   ],
   "source": [
    "df_test.head()"
   ]
  },
  {
   "cell_type": "code",
   "execution_count": 31,
   "metadata": {},
   "outputs": [],
   "source": [
    "SENTIMENT_THRESHOLDS = (0.4, 0.7)\n",
    "SEQUENCE_LENGTH = 300\n",
    "def decode_sentiment_test(score, include_neutral = True):\n",
    "    if include_neutral : \n",
    "        label = 2\n",
    "        if score <= SENTIMENT_THRESHOLDS[0] :\n",
    "            label = 0\n",
    "        elif score >= SENTIMENT_THRESHOLDS[1] :\n",
    "            label = 4\n",
    "        \n",
    "        return label\n",
    "    else : \n",
    "        return 0 if score < 0.5 else 4\n",
    "    \n",
    "    \n",
    "def predict_test(text, include_neutral = True) : \n",
    "    start_at = time.time()\n",
    "    \n",
    "    #on doit tokenizer la phrase puis pad la séquences pour le passer dans notre modèle\n",
    "    x_test = pad_sequences(tokenizer.texts_to_sequences([text]), maxlen = SEQUENCE_LENGTH)\n",
    "    \n",
    "    score = model.predict([x_test])[0] #on trouve la probabilité associé\n",
    "    \n",
    "    label = decode_sentiment_test(score,include_neutral = include_neutral) #on la classe en positive ou négative\n",
    "    \n",
    "    return label\n"
   ]
  },
  {
   "cell_type": "code",
   "execution_count": 37,
   "metadata": {},
   "outputs": [
    {
     "data": {
      "text/plain": [
       "4"
      ]
     },
     "execution_count": 37,
     "metadata": {},
     "output_type": "execute_result"
    }
   ],
   "source": [
    "predict_test(df_test['text'].iloc[2])"
   ]
  },
  {
   "cell_type": "code",
   "execution_count": 32,
   "metadata": {},
   "outputs": [
    {
     "data": {
      "text/plain": [
       "4"
      ]
     },
     "execution_count": 32,
     "metadata": {},
     "output_type": "execute_result"
    }
   ],
   "source": [
    "predict_test('I am fine')"
   ]
  },
  {
   "cell_type": "code",
   "execution_count": 38,
   "metadata": {},
   "outputs": [],
   "source": [
    "Good_predictions_total = 0\n",
    "\n",
    "for i in range(250):\n",
    "    predicted = predict_test(df_test['text'].iloc[i])\n",
    "    if df_test['label'].iloc[i] == predicted:\n",
    "        Good_predictions_total += 1"
   ]
  },
  {
   "cell_type": "code",
   "execution_count": 39,
   "metadata": {},
   "outputs": [
    {
     "data": {
      "text/plain": [
       "116"
      ]
     },
     "execution_count": 39,
     "metadata": {},
     "output_type": "execute_result"
    }
   ],
   "source": [
    "Good_predictions_total"
   ]
  },
  {
   "cell_type": "code",
   "execution_count": 30,
   "metadata": {},
   "outputs": [],
   "source": [
    "SENTIMENT_THRESHOLDS = (0.2, 0.8)\n",
    "SEQUENCE_LENGTH = 300\n",
    "def decode_sentiment_test(score, include_neutral = True):\n",
    "    if include_neutral : \n",
    "        label = 2\n",
    "        if score <= SENTIMENT_THRESHOLDS[0] :\n",
    "            label = 0\n",
    "        elif score >= SENTIMENT_THRESHOLDS[1] :\n",
    "            label = 4\n",
    "        \n",
    "        return label\n",
    "    else : \n",
    "        return 0 if score < 0.5 else 4\n",
    "    \n",
    "    \n",
    "def predict_test(text, include_neutral = True) : \n",
    "    start_at = time.time()\n",
    "    \n",
    "    #on doit tokenizer la phrase puis pad la séquences pour le passer dans notre modèle\n",
    "    x_test = pad_sequences(tokenizer.texts_to_sequences([text]), maxlen = SEQUENCE_LENGTH)\n",
    "    \n",
    "    score = model.predict([x_test])[0] #on trouve la probabilité associé\n",
    "    \n",
    "    label = decode_sentiment_test(score,include_neutral = include_neutral) #on la classe en positive ou négative\n",
    "    \n",
    "    return label\n"
   ]
  },
  {
   "cell_type": "code",
   "execution_count": 31,
   "metadata": {},
   "outputs": [],
   "source": [
    "Good_predictions_total = 0\n",
    "\n",
    "predicted_list = []\n",
    "\n",
    "for i in range(250):\n",
    "    predicted = predict_test(df_test['text'].iloc[i])\n",
    "    predicted_list.append(predicted)\n",
    "    if df_test['label'].iloc[i] == predicted:\n",
    "        Good_predictions_total += 1"
   ]
  },
  {
   "cell_type": "code",
   "execution_count": 32,
   "metadata": {},
   "outputs": [
    {
     "data": {
      "text/plain": [
       "147"
      ]
     },
     "execution_count": 32,
     "metadata": {},
     "output_type": "execute_result"
    }
   ],
   "source": [
    "Good_predictions_total"
   ]
  },
  {
   "cell_type": "code",
   "execution_count": 33,
   "metadata": {},
   "outputs": [
    {
     "name": "stdout",
     "output_type": "stream",
     "text": [
      "              precision    recall  f1-score   support\n",
      "\n",
      "           0       0.30      0.05      0.09        58\n",
      "           2       0.65      0.82      0.72       159\n",
      "           4       0.35      0.42      0.38        33\n",
      "\n",
      "    accuracy                           0.59       250\n",
      "   macro avg       0.43      0.43      0.40       250\n",
      "weighted avg       0.53      0.59      0.53       250\n",
      "\n"
     ]
    }
   ],
   "source": [
    "print(classification_report(df_test['label'], predicted_list))"
   ]
  },
  {
   "cell_type": "code",
   "execution_count": 24,
   "metadata": {},
   "outputs": [],
   "source": [
    "df_f = pd.DataFrame()\n",
    "df_f['text'] =df_test.text\n",
    "df_f['label'] =df_test.label\n",
    "df_f['pred'] =predicted_list"
   ]
  },
  {
   "cell_type": "code",
   "execution_count": 29,
   "metadata": {},
   "outputs": [
    {
     "data": {
      "text/html": [
       "<div>\n",
       "<style scoped>\n",
       "    .dataframe tbody tr th:only-of-type {\n",
       "        vertical-align: middle;\n",
       "    }\n",
       "\n",
       "    .dataframe tbody tr th {\n",
       "        vertical-align: top;\n",
       "    }\n",
       "\n",
       "    .dataframe thead th {\n",
       "        text-align: right;\n",
       "    }\n",
       "</style>\n",
       "<table border=\"1\" class=\"dataframe\">\n",
       "  <thead>\n",
       "    <tr style=\"text-align: right;\">\n",
       "      <th></th>\n",
       "      <th>text</th>\n",
       "      <th>label</th>\n",
       "      <th>pred</th>\n",
       "    </tr>\n",
       "  </thead>\n",
       "  <tbody>\n",
       "    <tr>\n",
       "      <th>0</th>\n",
       "      <td>Malaysian MPs are being sworn into Parliament today. First-time MP @fahmi_fadzil speaks to @staronline about some of the issues he will focusing on as a backbencher - Parliamentary reforms, the urban poor, public hosing and more. http://bit.ly/2NTNAYK</td>\n",
       "      <td>2</td>\n",
       "      <td>0</td>\n",
       "    </tr>\n",
       "    <tr>\n",
       "      <th>1</th>\n",
       "      <td>Modiji please understand state of mind of peaceful community and India's majority. Kindly take a look before announcing reforms, relief packages. @narendramodi @nsitharaman @AmitShah @JPNadda</td>\n",
       "      <td>2</td>\n",
       "      <td>4</td>\n",
       "    </tr>\n",
       "    <tr>\n",
       "      <th>4</th>\n",
       "      <td>After they cited our business climate reforms.....what have you people done . 4 years and counting.#grossincompetence .</td>\n",
       "      <td>0</td>\n",
       "      <td>4</td>\n",
       "    </tr>\n",
       "    <tr>\n",
       "      <th>8</th>\n",
       "      <td>Social Security must reduce benefits in 2034 if reforms aren't made @CNNPolitics https://cnn.it/2JgJvz1</td>\n",
       "      <td>0</td>\n",
       "      <td>4</td>\n",
       "    </tr>\n",
       "    <tr>\n",
       "      <th>9</th>\n",
       "      <td>Colorado lawmakers hang up on telecom reforms - http://9NEWS.com http://dlvr.it/LHvKvV #Telecom</td>\n",
       "      <td>0</td>\n",
       "      <td>2</td>\n",
       "    </tr>\n",
       "    <tr>\n",
       "      <th>10</th>\n",
       "      <td>1)Mr. Huggans,I'm not a Trump fan boy.What I support is the free market system. Evidently,FDR implemented a vast program of social reforms, but I don't agree with the idea that he was a socialist.The socialist agenda of Sanders,Warren,Ocasio-CortÃ©s is different from FDR's program</td>\n",
       "      <td>0</td>\n",
       "      <td>4</td>\n",
       "    </tr>\n",
       "    <tr>\n",
       "      <th>11</th>\n",
       "      <td>Select #Texas #School Districts Aim to Pilot Testing Reforms http://bit.ly/Voj5tl via @TexasTribune #education</td>\n",
       "      <td>2</td>\n",
       "      <td>4</td>\n",
       "    </tr>\n",
       "    <tr>\n",
       "      <th>12</th>\n",
       "      <td>Thousands protest labour reforms in Italy: Trade unions call for nationwide rallies against loosening restrict... http://aje.me/12CyJJt</td>\n",
       "      <td>0</td>\n",
       "      <td>2</td>\n",
       "    </tr>\n",
       "    <tr>\n",
       "      <th>13</th>\n",
       "      <td>New reforms will be implemented in security organs: NSC http://www.afghanistantimes.af/?p=28255</td>\n",
       "      <td>2</td>\n",
       "      <td>4</td>\n",
       "    </tr>\n",
       "    <tr>\n",
       "      <th>14</th>\n",
       "      <td>EU warns of visas for US citizens if Washington implements visa waiver reforms â€” RT News https://www.rt.com/news/326304-usa-eu-visa-threat/#.VnMVx3vMM-Q.twitter</td>\n",
       "      <td>0</td>\n",
       "      <td>4</td>\n",
       "    </tr>\n",
       "    <tr>\n",
       "      <th>16</th>\n",
       "      <td>RT DiMartinoBooth JKRiashiJr RetirementRight ritholtz You are correct. The only thing Fed economists know how to do is widen the inequality gap. And I would never suggest raising taxes (you may be unfamiliar with me, which is fine). But educational reforms are possible albeiâ€¦</td>\n",
       "      <td>2</td>\n",
       "      <td>4</td>\n",
       "    </tr>\n",
       "    <tr>\n",
       "      <th>18</th>\n",
       "      <td>G20 urges reforms for global trade growth http://www.clickurl.in/fejheB http://fb.me/6T3ETYfUH</td>\n",
       "      <td>2</td>\n",
       "      <td>4</td>\n",
       "    </tr>\n",
       "    <tr>\n",
       "      <th>21</th>\n",
       "      <td>â€œShort gameâ€ changes and reforms may be geared to a single event, but these are not the vision or lasting institutional changes we in the human rights community seekâ€”and believe is possible\", @MinkysHighjinks. #GoodSports</td>\n",
       "      <td>0</td>\n",
       "      <td>4</td>\n",
       "    </tr>\n",
       "    <tr>\n",
       "      <th>22</th>\n",
       "      <td>I am committed to more reforms, Ambode tells Judicial workers http://dlvr.it/CLKDsh</td>\n",
       "      <td>2</td>\n",
       "      <td>0</td>\n",
       "    </tr>\n",
       "    <tr>\n",
       "      <th>23</th>\n",
       "      <td>Who comprises California's 7.1 million #uninsured? User-friendly facts, figures &amp;amp; charts: http://bit.ly/UAcXwf Looking fwd to 2014 reforms.</td>\n",
       "      <td>2</td>\n",
       "      <td>4</td>\n",
       "    </tr>\n",
       "    <tr>\n",
       "      <th>25</th>\n",
       "      <td>Are madressahs ready for registration ? Madressah reforms http://www.dawn.com/news/1239532</td>\n",
       "      <td>2</td>\n",
       "      <td>4</td>\n",
       "    </tr>\n",
       "    <tr>\n",
       "      <th>26</th>\n",
       "      <td>GP reforms may harm patient care and increase waits: think tank - http://tinyurl.com/2faxd6t #news</td>\n",
       "      <td>0</td>\n",
       "      <td>4</td>\n",
       "    </tr>\n",
       "    <tr>\n",
       "      <th>28</th>\n",
       "      <td>Please we need temple reforms , the clergy should do more on spreading message of Hinduism, martial arts and and its ever evolving theology, the Pujaris should be selected by Hindu franchise body like Hindu temple Prabandhak Committee.</td>\n",
       "      <td>2</td>\n",
       "      <td>4</td>\n",
       "    </tr>\n",
       "    <tr>\n",
       "      <th>29</th>\n",
       "      <td>On LinkedIn: Alternative Pay to Play Recordkeeping Requirements Approved for Advisers to Registeredâ€¦ http://bit.ly/oHluxy #jdsupra</td>\n",
       "      <td>2</td>\n",
       "      <td>4</td>\n",
       "    </tr>\n",
       "    <tr>\n",
       "      <th>30</th>\n",
       "      <td>PSBs recapitalisation should be part of broader package of financial reforms: IMF https://www.worldsitenews.com/psbs-recapitalisation-should-be-part-of-broader-package-of-financial-reforms-imf/</td>\n",
       "      <td>2</td>\n",
       "      <td>4</td>\n",
       "    </tr>\n",
       "    <tr>\n",
       "      <th>31</th>\n",
       "      <td>Statesâ€™ probe of foreclosures could force reforms (AP): AP â€“ A joint investigation by every state and the Dist... http://awe.sm/5Bv5z</td>\n",
       "      <td>2</td>\n",
       "      <td>0</td>\n",
       "    </tr>\n",
       "    <tr>\n",
       "      <th>32</th>\n",
       "      <td>an election is not an event but a process. no reforms no election. period!</td>\n",
       "      <td>2</td>\n",
       "      <td>0</td>\n",
       "    </tr>\n",
       "    <tr>\n",
       "      <th>33</th>\n",
       "      <td>Senate election reforms quietly shelved by Government http://www.abc.net.au/news/2014-07-14/senate-election-reforms-quietly-shelved-by-government/5594436 via @ABCNews</td>\n",
       "      <td>2</td>\n",
       "      <td>0</td>\n",
       "    </tr>\n",
       "    <tr>\n",
       "      <th>34</th>\n",
       "      <td>@WMutunga 'security forces need a mental shift if we are to have meaningful reforms within the police' @hakiknchr @parawakili</td>\n",
       "      <td>2</td>\n",
       "      <td>4</td>\n",
       "    </tr>\n",
       "    <tr>\n",
       "      <th>36</th>\n",
       "      <td>Chinaâ€™s reforms donâ€™t contradict the communist revolution â€“ they consolidate it</td>\n",
       "      <td>2</td>\n",
       "      <td>4</td>\n",
       "    </tr>\n",
       "    <tr>\n",
       "      <th>37</th>\n",
       "      <td>TWO citizens have gone to court seeking to postpone reforms in the police force and in particular the appointmen ... http://tf.to/aywgD</td>\n",
       "      <td>2</td>\n",
       "      <td>0</td>\n",
       "    </tr>\n",
       "    <tr>\n",
       "      <th>39</th>\n",
       "      <td>â€˜Govâ€™t must slow down on constitutional reformsâ€™: Government has been asked to slow down on the constitutional... http://bit.ly/1mA8aLX</td>\n",
       "      <td>2</td>\n",
       "      <td>0</td>\n",
       "    </tr>\n",
       "    <tr>\n",
       "      <th>41</th>\n",
       "      <td>New #WomenBizLaw index aims to lay a roadmap for progress over time to inspire reforms that benefit #genderequality &amp;amp; to identify potential areas where more work is needed. http://wrld.bg/UWvT30nLMBU</td>\n",
       "      <td>2</td>\n",
       "      <td>4</td>\n",
       "    </tr>\n",
       "    <tr>\n",
       "      <th>42</th>\n",
       "      <td>Hmmm,, \"plain packaging for cigarettes\" ;) RT @WorldTradeLaw: Cigarette reforms break regulations http://bit.ly/m0b3rZ.</td>\n",
       "      <td>0</td>\n",
       "      <td>4</td>\n",
       "    </tr>\n",
       "    <tr>\n",
       "      <th>43</th>\n",
       "      <td>NDA gets pat for railways' reforms http://www.business-standard.com/article/current-affairs/nda-gets-pat-for-railways-reforms-116052700031_1.html via NMApp</td>\n",
       "      <td>2</td>\n",
       "      <td>4</td>\n",
       "    </tr>\n",
       "    <tr>\n",
       "      <th>...</th>\n",
       "      <td>...</td>\n",
       "      <td>...</td>\n",
       "      <td>...</td>\n",
       "    </tr>\n",
       "    <tr>\n",
       "      <th>209</th>\n",
       "      <td>Godrej &amp; Boyce MFG: GST a very important legislation; GST more important than land reforms</td>\n",
       "      <td>2</td>\n",
       "      <td>4</td>\n",
       "    </tr>\n",
       "    <tr>\n",
       "      <th>210</th>\n",
       "      <td>Brazil leader promises major reforms http://www.bbc.co.uk/news/world-latin-america-23041396</td>\n",
       "      <td>2</td>\n",
       "      <td>4</td>\n",
       "    </tr>\n",
       "    <tr>\n",
       "      <th>211</th>\n",
       "      <td>Everyone will have one concern or other at any given point of time. I would call this as a bold decision; reforms should not wait.</td>\n",
       "      <td>0</td>\n",
       "      <td>4</td>\n",
       "    </tr>\n",
       "    <tr>\n",
       "      <th>213</th>\n",
       "      <td>Reforms to #Vocational #Qualifications in England - new seminar in London on 14 Jan 2016: http://bit.ly/1xCuKuM #techlevels #techbacc #QCF</td>\n",
       "      <td>2</td>\n",
       "      <td>4</td>\n",
       "    </tr>\n",
       "    <tr>\n",
       "      <th>214</th>\n",
       "      <td>Recent scandals have impaired the government's ability to carry out its promised economic reforms.[900,010]</td>\n",
       "      <td>0</td>\n",
       "      <td>4</td>\n",
       "    </tr>\n",
       "    <tr>\n",
       "      <th>215</th>\n",
       "      <td>http://www.urduvoa.com/content/pakistan needs reforms and a responsible govt that deliver...article/2468062.html</td>\n",
       "      <td>0</td>\n",
       "      <td>4</td>\n",
       "    </tr>\n",
       "    <tr>\n",
       "      <th>216</th>\n",
       "      <td>The EC had the power to extend nomination time frame due to the delayed conclusion on electoral reforms by parliament -CJ</td>\n",
       "      <td>2</td>\n",
       "      <td>0</td>\n",
       "    </tr>\n",
       "    <tr>\n",
       "      <th>219</th>\n",
       "      <td>Rising homelessness caused by 'conflict' between benefit reforms and housing policy | News | Inside Housing http://bit.ly/1lZMJWB</td>\n",
       "      <td>2</td>\n",
       "      <td>0</td>\n",
       "    </tr>\n",
       "    <tr>\n",
       "      <th>220</th>\n",
       "      <td>#29Leaks shows need for reforms on creating companies, says UK anti-corruption chief - https://goo.gl/alerts/nPy8J #GoogleAlerts</td>\n",
       "      <td>2</td>\n",
       "      <td>0</td>\n",
       "    </tr>\n",
       "    <tr>\n",
       "      <th>221</th>\n",
       "      <td>Legal community plays vital role in shaping reforms, says former Law Commission chairman http://bit.ly/2ASq3Eb</td>\n",
       "      <td>2</td>\n",
       "      <td>4</td>\n",
       "    </tr>\n",
       "    <tr>\n",
       "      <th>222</th>\n",
       "      <td>http://yhoo.it/tD9N9t Analysis: Deficit may be biggest threat to healthcare reforms</td>\n",
       "      <td>0</td>\n",
       "      <td>4</td>\n",
       "    </tr>\n",
       "    <tr>\n",
       "      <th>223</th>\n",
       "      <td>Laughing in \"fighting corruption.\" To think I actually believed @MBuhari and @ProfOsinbajo team would have ZERO tolerance for corruption, would prioritize police/EFCC reforms, and devolve power... They even promised 26% funding for EDUCATION... I laugh at myself. Bitter-sweet!</td>\n",
       "      <td>2</td>\n",
       "      <td>4</td>\n",
       "    </tr>\n",
       "    <tr>\n",
       "      <th>224</th>\n",
       "      <td>Reforms to push India's growth to 8pc by FY'19: Fitch</td>\n",
       "      <td>2</td>\n",
       "      <td>4</td>\n",
       "    </tr>\n",
       "    <tr>\n",
       "      <th>225</th>\n",
       "      <td>CPA tells Paraic Duffy to 'park' reforms http://www.irishexaminer.com/sport/gaa/football/cpa-tells-paraic-duffy-to-park-reforms-440510.html?utm_source=androidapp&amp;amp;utm_medium=share&amp;amp;utm_campaign=sharebutton #CPA #GAA</td>\n",
       "      <td>2</td>\n",
       "      <td>4</td>\n",
       "    </tr>\n",
       "    <tr>\n",
       "      <th>226</th>\n",
       "      <td>I was thinking similar, the difference is that the ones happy with the status quo wouldn't mind some reforms, whereas hard and soft Leavers won't compromise.</td>\n",
       "      <td>2</td>\n",
       "      <td>4</td>\n",
       "    </tr>\n",
       "    <tr>\n",
       "      <th>228</th>\n",
       "      <td>@Awifefirst That's why I put \"reform\" in inverted commas. I have seen impact of previous so called reforms and they are in fact cuts.</td>\n",
       "      <td>0</td>\n",
       "      <td>2</td>\n",
       "    </tr>\n",
       "    <tr>\n",
       "      <th>229</th>\n",
       "      <td>@jrobertsonmp A package of reforms that doesn't address alcohol fuelled violence against women (often at home) - is only a half measure.</td>\n",
       "      <td>0</td>\n",
       "      <td>2</td>\n",
       "    </tr>\n",
       "    <tr>\n",
       "      <th>230</th>\n",
       "      <td>@LaszloAndorEU #Reforms introduced without respecting #socialdialogue are less likely to be well implemented and durable</td>\n",
       "      <td>0</td>\n",
       "      <td>2</td>\n",
       "    </tr>\n",
       "    <tr>\n",
       "      <th>232</th>\n",
       "      <td>A lot of housing association chief executives at today's summit very hostile to tenure reforms.</td>\n",
       "      <td>0</td>\n",
       "      <td>4</td>\n",
       "    </tr>\n",
       "    <tr>\n",
       "      <th>233</th>\n",
       "      <td>European Clubs' Association: What has happened to planned reforms? http://dlvr.it/RCrqSj</td>\n",
       "      <td>2</td>\n",
       "      <td>0</td>\n",
       "    </tr>\n",
       "    <tr>\n",
       "      <th>235</th>\n",
       "      <td>Greek pledges rest on hard-to-keep promise of tax reforms: ATHENS (Reuters) - When Greece's tax police squad r... http://bit.ly/1TP0apG</td>\n",
       "      <td>0</td>\n",
       "      <td>4</td>\n",
       "    </tr>\n",
       "    <tr>\n",
       "      <th>236</th>\n",
       "      <td>â€˜What does India need going forward?... We are not paying attention to joblessness...we are not paying attention to the next round of reforms.â€™ #RaghuramRajan on ndtv</td>\n",
       "      <td>0</td>\n",
       "      <td>4</td>\n",
       "    </tr>\n",
       "    <tr>\n",
       "      <th>237</th>\n",
       "      <td>Pacific trade pact calls for tough Japan reforms: TOKYO (AP) â€” Prime Minister Shinzo Abe announced Friday that Japan will join talks ...</td>\n",
       "      <td>2</td>\n",
       "      <td>4</td>\n",
       "    </tr>\n",
       "    <tr>\n",
       "      <th>238</th>\n",
       "      <td>Romney's Plan: Roll back financial reforms, give tax breaks to the wealthy &amp;amp; turn medicare into voucher program. #TheWarRoom</td>\n",
       "      <td>2</td>\n",
       "      <td>4</td>\n",
       "    </tr>\n",
       "    <tr>\n",
       "      <th>239</th>\n",
       "      <td>18th school shooting in 2018 today. When will our legislators start valuing life over NRA money and pass substantial gun reforms? #StopTheMadness</td>\n",
       "      <td>0</td>\n",
       "      <td>4</td>\n",
       "    </tr>\n",
       "    <tr>\n",
       "      <th>242</th>\n",
       "      <td>@SoCal4Trump check out Donald Trump Tax Reform's Income Tax Calculator - http://www.calculator.co.ke/donald-trump-tax-reforms-income-tax-calculator</td>\n",
       "      <td>2</td>\n",
       "      <td>4</td>\n",
       "    </tr>\n",
       "    <tr>\n",
       "      <th>243</th>\n",
       "      <td>Budget 2015: George Osborne set to unveil pension reforms.</td>\n",
       "      <td>2</td>\n",
       "      <td>4</td>\n",
       "    </tr>\n",
       "    <tr>\n",
       "      <th>244</th>\n",
       "      <td>The huge challenges ahead for #Saudi #oil reforms http://www.huffingtonpost.com/entry/saudi-arabia-economic-reform-plan_us_571fbfb4e4b0b49df6a95e52 via @TheWorldPost</td>\n",
       "      <td>2</td>\n",
       "      <td>4</td>\n",
       "    </tr>\n",
       "    <tr>\n",
       "      <th>246</th>\n",
       "      <td>#nonukes #antifa Algerian government lays out draft constitutional reforms http://news.yahoo.com/algerian-government-lays-draft-constitutional-reforms-132227022--business.html</td>\n",
       "      <td>2</td>\n",
       "      <td>0</td>\n",
       "    </tr>\n",
       "    <tr>\n",
       "      <th>248</th>\n",
       "      <td>Ecuador: Public Sector Reforms for Growth in the Era of Declining Oil Output (World Bank Country Study): http://amzn.to/jtOKPf</td>\n",
       "      <td>2</td>\n",
       "      <td>0</td>\n",
       "    </tr>\n",
       "  </tbody>\n",
       "</table>\n",
       "<p>165 rows × 3 columns</p>\n",
       "</div>"
      ],
      "text/plain": [
       "                                                                                                                                                                                                                                                                                          text  \\\n",
       "0    Malaysian MPs are being sworn into Parliament today. First-time MP @fahmi_fadzil speaks to @staronline about some of the issues he will focusing on as a backbencher - Parliamentary reforms, the urban poor, public hosing and more. http://bit.ly/2NTNAYK                                 \n",
       "1    Modiji please understand state of mind of peaceful community and India's majority. Kindly take a look before announcing reforms, relief packages. @narendramodi @nsitharaman @AmitShah @JPNadda                                                                                             \n",
       "4    After they cited our business climate reforms.....what have you people done . 4 years and counting.#grossincompetence .                                                                                                                                                                     \n",
       "8    Social Security must reduce benefits in 2034 if reforms aren't made @CNNPolitics https://cnn.it/2JgJvz1                                                                                                                                                                                     \n",
       "9    Colorado lawmakers hang up on telecom reforms - http://9NEWS.com http://dlvr.it/LHvKvV #Telecom                                                                                                                                                                                             \n",
       "10   1)Mr. Huggans,I'm not a Trump fan boy.What I support is the free market system. Evidently,FDR implemented a vast program of social reforms, but I don't agree with the idea that he was a socialist.The socialist agenda of Sanders,Warren,Ocasio-CortÃ©s is different from FDR's program   \n",
       "11   Select #Texas #School Districts Aim to Pilot Testing Reforms http://bit.ly/Voj5tl via @TexasTribune #education                                                                                                                                                                              \n",
       "12   Thousands protest labour reforms in Italy: Trade unions call for nationwide rallies against loosening restrict... http://aje.me/12CyJJt                                                                                                                                                     \n",
       "13   New reforms will be implemented in security organs: NSC http://www.afghanistantimes.af/?p=28255                                                                                                                                                                                             \n",
       "14   EU warns of visas for US citizens if Washington implements visa waiver reforms â€” RT News https://www.rt.com/news/326304-usa-eu-visa-threat/#.VnMVx3vMM-Q.twitter                                                                                                                          \n",
       "16   RT DiMartinoBooth JKRiashiJr RetirementRight ritholtz You are correct. The only thing Fed economists know how to do is widen the inequality gap. And I would never suggest raising taxes (you may be unfamiliar with me, which is fine). But educational reforms are possible albeiâ€¦      \n",
       "18   G20 urges reforms for global trade growth http://www.clickurl.in/fejheB http://fb.me/6T3ETYfUH                                                                                                                                                                                              \n",
       "21   â€œShort gameâ€ changes and reforms may be geared to a single event, but these are not the vision or lasting institutional changes we in the human rights community seekâ€”and believe is possible\", @MinkysHighjinks. #GoodSports                                                         \n",
       "22   I am committed to more reforms, Ambode tells Judicial workers http://dlvr.it/CLKDsh                                                                                                                                                                                                         \n",
       "23   Who comprises California's 7.1 million #uninsured? User-friendly facts, figures &amp; charts: http://bit.ly/UAcXwf Looking fwd to 2014 reforms.                                                                                                                                             \n",
       "25   Are madressahs ready for registration ? Madressah reforms http://www.dawn.com/news/1239532                                                                                                                                                                                                  \n",
       "26   GP reforms may harm patient care and increase waits: think tank - http://tinyurl.com/2faxd6t #news                                                                                                                                                                                          \n",
       "28   Please we need temple reforms , the clergy should do more on spreading message of Hinduism, martial arts and and its ever evolving theology, the Pujaris should be selected by Hindu franchise body like Hindu temple Prabandhak Committee.                                                 \n",
       "29   On LinkedIn: Alternative Pay to Play Recordkeeping Requirements Approved for Advisers to Registeredâ€¦ http://bit.ly/oHluxy #jdsupra                                                                                                                                                        \n",
       "30   PSBs recapitalisation should be part of broader package of financial reforms: IMF https://www.worldsitenews.com/psbs-recapitalisation-should-be-part-of-broader-package-of-financial-reforms-imf/                                                                                           \n",
       "31   Statesâ€™ probe of foreclosures could force reforms (AP): AP â€“ A joint investigation by every state and the Dist... http://awe.sm/5Bv5z                                                                                                                                                   \n",
       "32   an election is not an event but a process. no reforms no election. period!                                                                                                                                                                                                                  \n",
       "33   Senate election reforms quietly shelved by Government http://www.abc.net.au/news/2014-07-14/senate-election-reforms-quietly-shelved-by-government/5594436 via @ABCNews                                                                                                                      \n",
       "34   @WMutunga 'security forces need a mental shift if we are to have meaningful reforms within the police' @hakiknchr @parawakili                                                                                                                                                               \n",
       "36   Chinaâ€™s reforms donâ€™t contradict the communist revolution â€“ they consolidate it                                                                                                                                                                                                       \n",
       "37   TWO citizens have gone to court seeking to postpone reforms in the police force and in particular the appointmen ... http://tf.to/aywgD                                                                                                                                                     \n",
       "39   â€˜Govâ€™t must slow down on constitutional reformsâ€™: Government has been asked to slow down on the constitutional... http://bit.ly/1mA8aLX                                                                                                                                               \n",
       "41   New #WomenBizLaw index aims to lay a roadmap for progress over time to inspire reforms that benefit #genderequality &amp; to identify potential areas where more work is needed. http://wrld.bg/UWvT30nLMBU                                                                                 \n",
       "42   Hmmm,, \"plain packaging for cigarettes\" ;) RT @WorldTradeLaw: Cigarette reforms break regulations http://bit.ly/m0b3rZ.                                                                                                                                                                     \n",
       "43   NDA gets pat for railways' reforms http://www.business-standard.com/article/current-affairs/nda-gets-pat-for-railways-reforms-116052700031_1.html via NMApp                                                                                                                                 \n",
       "..                                                                                                                                                           ...                                                                                                                                 \n",
       "209  Godrej & Boyce MFG: GST a very important legislation; GST more important than land reforms                                                                                                                                                                                                  \n",
       "210  Brazil leader promises major reforms http://www.bbc.co.uk/news/world-latin-america-23041396                                                                                                                                                                                                 \n",
       "211  Everyone will have one concern or other at any given point of time. I would call this as a bold decision; reforms should not wait.                                                                                                                                                          \n",
       "213  Reforms to #Vocational #Qualifications in England - new seminar in London on 14 Jan 2016: http://bit.ly/1xCuKuM #techlevels #techbacc #QCF                                                                                                                                                  \n",
       "214  Recent scandals have impaired the government's ability to carry out its promised economic reforms.[900,010]                                                                                                                                                                                 \n",
       "215  http://www.urduvoa.com/content/pakistan needs reforms and a responsible govt that deliver...article/2468062.html                                                                                                                                                                            \n",
       "216  The EC had the power to extend nomination time frame due to the delayed conclusion on electoral reforms by parliament -CJ                                                                                                                                                                   \n",
       "219  Rising homelessness caused by 'conflict' between benefit reforms and housing policy | News | Inside Housing http://bit.ly/1lZMJWB                                                                                                                                                           \n",
       "220  #29Leaks shows need for reforms on creating companies, says UK anti-corruption chief - https://goo.gl/alerts/nPy8J #GoogleAlerts                                                                                                                                                            \n",
       "221  Legal community plays vital role in shaping reforms, says former Law Commission chairman http://bit.ly/2ASq3Eb                                                                                                                                                                              \n",
       "222  http://yhoo.it/tD9N9t Analysis: Deficit may be biggest threat to healthcare reforms                                                                                                                                                                                                         \n",
       "223  Laughing in \"fighting corruption.\" To think I actually believed @MBuhari and @ProfOsinbajo team would have ZERO tolerance for corruption, would prioritize police/EFCC reforms, and devolve power... They even promised 26% funding for EDUCATION... I laugh at myself. Bitter-sweet!       \n",
       "224  Reforms to push India's growth to 8pc by FY'19: Fitch                                                                                                                                                                                                                                       \n",
       "225  CPA tells Paraic Duffy to 'park' reforms http://www.irishexaminer.com/sport/gaa/football/cpa-tells-paraic-duffy-to-park-reforms-440510.html?utm_source=androidapp&amp;utm_medium=share&amp;utm_campaign=sharebutton #CPA #GAA                                                               \n",
       "226  I was thinking similar, the difference is that the ones happy with the status quo wouldn't mind some reforms, whereas hard and soft Leavers won't compromise.                                                                                                                               \n",
       "228  @Awifefirst That's why I put \"reform\" in inverted commas. I have seen impact of previous so called reforms and they are in fact cuts.                                                                                                                                                       \n",
       "229  @jrobertsonmp A package of reforms that doesn't address alcohol fuelled violence against women (often at home) - is only a half measure.                                                                                                                                                    \n",
       "230  @LaszloAndorEU #Reforms introduced without respecting #socialdialogue are less likely to be well implemented and durable                                                                                                                                                                    \n",
       "232  A lot of housing association chief executives at today's summit very hostile to tenure reforms.                                                                                                                                                                                             \n",
       "233  European Clubs' Association: What has happened to planned reforms? http://dlvr.it/RCrqSj                                                                                                                                                                                                    \n",
       "235  Greek pledges rest on hard-to-keep promise of tax reforms: ATHENS (Reuters) - When Greece's tax police squad r... http://bit.ly/1TP0apG                                                                                                                                                     \n",
       "236  â€˜What does India need going forward?... We are not paying attention to joblessness...we are not paying attention to the next round of reforms.â€™ #RaghuramRajan on ndtv                                                                                                                  \n",
       "237  Pacific trade pact calls for tough Japan reforms: TOKYO (AP) â€” Prime Minister Shinzo Abe announced Friday that Japan will join talks ...                                                                                                                                                  \n",
       "238  Romney's Plan: Roll back financial reforms, give tax breaks to the wealthy &amp; turn medicare into voucher program. #TheWarRoom                                                                                                                                                            \n",
       "239  18th school shooting in 2018 today. When will our legislators start valuing life over NRA money and pass substantial gun reforms? #StopTheMadness                                                                                                                                           \n",
       "242  @SoCal4Trump check out Donald Trump Tax Reform's Income Tax Calculator - http://www.calculator.co.ke/donald-trump-tax-reforms-income-tax-calculator                                                                                                                                         \n",
       "243  Budget 2015: George Osborne set to unveil pension reforms.                                                                                                                                                                                                                                  \n",
       "244  The huge challenges ahead for #Saudi #oil reforms http://www.huffingtonpost.com/entry/saudi-arabia-economic-reform-plan_us_571fbfb4e4b0b49df6a95e52 via @TheWorldPost                                                                                                                       \n",
       "246  #nonukes #antifa Algerian government lays out draft constitutional reforms http://news.yahoo.com/algerian-government-lays-draft-constitutional-reforms-132227022--business.html                                                                                                             \n",
       "248  Ecuador: Public Sector Reforms for Growth in the Era of Declining Oil Output (World Bank Country Study): http://amzn.to/jtOKPf                                                                                                                                                              \n",
       "\n",
       "     label  pred  \n",
       "0    2      0     \n",
       "1    2      4     \n",
       "4    0      4     \n",
       "8    0      4     \n",
       "9    0      2     \n",
       "10   0      4     \n",
       "11   2      4     \n",
       "12   0      2     \n",
       "13   2      4     \n",
       "14   0      4     \n",
       "16   2      4     \n",
       "18   2      4     \n",
       "21   0      4     \n",
       "22   2      0     \n",
       "23   2      4     \n",
       "25   2      4     \n",
       "26   0      4     \n",
       "28   2      4     \n",
       "29   2      4     \n",
       "30   2      4     \n",
       "31   2      0     \n",
       "32   2      0     \n",
       "33   2      0     \n",
       "34   2      4     \n",
       "36   2      4     \n",
       "37   2      0     \n",
       "39   2      0     \n",
       "41   2      4     \n",
       "42   0      4     \n",
       "43   2      4     \n",
       "..  ..     ..     \n",
       "209  2      4     \n",
       "210  2      4     \n",
       "211  0      4     \n",
       "213  2      4     \n",
       "214  0      4     \n",
       "215  0      4     \n",
       "216  2      0     \n",
       "219  2      0     \n",
       "220  2      0     \n",
       "221  2      4     \n",
       "222  0      4     \n",
       "223  2      4     \n",
       "224  2      4     \n",
       "225  2      4     \n",
       "226  2      4     \n",
       "228  0      2     \n",
       "229  0      2     \n",
       "230  0      2     \n",
       "232  0      4     \n",
       "233  2      0     \n",
       "235  0      4     \n",
       "236  0      4     \n",
       "237  2      4     \n",
       "238  2      4     \n",
       "239  0      4     \n",
       "242  2      4     \n",
       "243  2      4     \n",
       "244  2      4     \n",
       "246  2      0     \n",
       "248  2      0     \n",
       "\n",
       "[165 rows x 3 columns]"
      ]
     },
     "execution_count": 29,
     "metadata": {},
     "output_type": "execute_result"
    }
   ],
   "source": [
    "pd.set_option('display.max_colwidth', -1)\n",
    "df_f[df_f.label != df_f.pred]"
   ]
  },
  {
   "cell_type": "code",
   "execution_count": 67,
   "metadata": {},
   "outputs": [
    {
     "data": {
      "text/plain": [
       "4"
      ]
     },
     "execution_count": 67,
     "metadata": {},
     "output_type": "execute_result"
    }
   ],
   "source": [
    "predict_test('I am happy')"
   ]
  },
  {
   "cell_type": "code",
   "execution_count": 68,
   "metadata": {},
   "outputs": [
    {
     "data": {
      "text/plain": [
       "0"
      ]
     },
     "execution_count": 68,
     "metadata": {},
     "output_type": "execute_result"
    }
   ],
   "source": [
    "predict_test('I am angry')"
   ]
  },
  {
   "cell_type": "code",
   "execution_count": 69,
   "metadata": {},
   "outputs": [
    {
     "data": {
      "text/plain": [
       "2"
      ]
     },
     "execution_count": 69,
     "metadata": {},
     "output_type": "execute_result"
    }
   ],
   "source": [
    "predict_test('what are you talking about ?')"
   ]
  },
  {
   "cell_type": "code",
   "execution_count": 70,
   "metadata": {},
   "outputs": [
    {
     "data": {
      "text/plain": [
       "2"
      ]
     },
     "execution_count": 70,
     "metadata": {},
     "output_type": "execute_result"
    }
   ],
   "source": [
    "predict_test('I have to be fine, but actually I am not')"
   ]
  },
  {
   "cell_type": "code",
   "execution_count": 71,
   "metadata": {},
   "outputs": [
    {
     "data": {
      "text/plain": [
       "{'label': 'NEGATIVE',\n",
       " 'score': 0.16270455718040466,\n",
       " 'elapsed time': 0.05485272407531738}"
      ]
     },
     "execution_count": 71,
     "metadata": {},
     "output_type": "execute_result"
    }
   ],
   "source": [
    "predict('We are not safe anymore')"
   ]
  },
  {
   "cell_type": "code",
   "execution_count": 72,
   "metadata": {},
   "outputs": [
    {
     "data": {
      "text/plain": [
       "0"
      ]
     },
     "execution_count": 72,
     "metadata": {},
     "output_type": "execute_result"
    }
   ],
   "source": [
    "predict_test('We are not safe anymore')"
   ]
  },
  {
   "cell_type": "code",
   "execution_count": 76,
   "metadata": {},
   "outputs": [],
   "source": [
    "SENTIMENT_THRESHOLDS = (0.2, 0.85)\n",
    "SEQUENCE_LENGTH = 300\n",
    "def decode_sentiment_test(score, include_neutral = True):\n",
    "    if include_neutral : \n",
    "        label = 2\n",
    "        if score <= SENTIMENT_THRESHOLDS[0] :\n",
    "            label = 0\n",
    "        elif score >= SENTIMENT_THRESHOLDS[1] :\n",
    "            label = 4\n",
    "        \n",
    "        return label\n",
    "    else : \n",
    "        return 0 if score < 0.5 else 4\n",
    "    \n",
    "    \n",
    "def predict_test(text, include_neutral = True) : \n",
    "    start_at = time.time()\n",
    "    \n",
    "    #on doit tokenizer la phrase puis pad la séquences pour le passer dans notre modèle\n",
    "    x_test = pad_sequences(tokenizer.texts_to_sequences([text]), maxlen = SEQUENCE_LENGTH)\n",
    "    \n",
    "    score = model.predict([x_test])[0] #on trouve la probabilité associé\n",
    "    \n",
    "    label = decode_sentiment_test(score,include_neutral = include_neutral) #on la classe en positive ou négative\n",
    "    \n",
    "    return label"
   ]
  },
  {
   "cell_type": "code",
   "execution_count": 100,
   "metadata": {},
   "outputs": [],
   "source": [
    "Good_predictions_total = 0\n",
    "\n",
    "for i in range(250):\n",
    "    predicted = predict_test(df_test['text'].iloc[i])\n",
    "    if df_test['label'].iloc[i] == predicted:\n",
    "        Good_predictions_total += 1"
   ]
  },
  {
   "cell_type": "code",
   "execution_count": 101,
   "metadata": {},
   "outputs": [
    {
     "data": {
      "text/plain": [
       "142"
      ]
     },
     "execution_count": 101,
     "metadata": {},
     "output_type": "execute_result"
    }
   ],
   "source": [
    "Good_predictions_total"
   ]
  },
  {
   "cell_type": "code",
   "execution_count": 80,
   "metadata": {},
   "outputs": [
    {
     "name": "stdout",
     "output_type": "stream",
     "text": [
      "والله من الضروري يكون فيه اصلاحات عشان المواطن يتنفس شوي دخيل الله ، الرواتب م تكفى تفاقم الاسعار اللي حاصل كيف ، و العالم ف تطور و نهضه اجتماعيه و اقتصاديه و محليه و اغلب الرواتب ٤٠٠٠ ريال م تعيش فرد ف ما بالك عوائل عايشه ع كذا ، الله المستعان .. (ar) --> By God, it is necessary that reforms be made in order for the citizen to breathe a little from an outsider. The salaries are not sufficient for the exacerbation of prices that is occurring, and the world is developing and developing its social, economic and local renaissance and most of the salaries are 4000 riyals. Help .. (en)\n"
     ]
    }
   ],
   "source": [
    "# translator\n",
    "\n",
    "from googletrans import Translator, constants\n",
    "from pprint import pprint\n",
    "\n",
    "# init the Google API translator\n",
    "translator = Translator()\n",
    "\n",
    "\n",
    "translation = translator.translate(\"والله من الضروري يكون فيه اصلاحات عشان المواطن يتنفس شوي دخيل الله ، الرواتب م تكفى تفاقم الاسعار اللي حاصل كيف ، و العالم ف تطور و نهضه اجتماعيه و اقتصاديه و محليه و اغلب الرواتب ٤٠٠٠ ريال م تعيش فرد ف ما بالك عوائل عايشه ع كذا ، الله المستعان ..\", dest=\"en\", src=\"ar\")\n",
    "print(f\"{translation.origin} ({translation.src}) --> {translation.text} ({translation.dest})\")"
   ]
  },
  {
   "cell_type": "code",
   "execution_count": 81,
   "metadata": {},
   "outputs": [
    {
     "data": {
      "text/plain": [
       "'By God, it is necessary that reforms be made in order for the citizen to breathe a little from an outsider. The salaries are not sufficient for the exacerbation of prices that is occurring, and the world is developing and developing its social, economic and local renaissance and most of the salaries are 4000 riyals. Help ..'"
      ]
     },
     "execution_count": 81,
     "metadata": {},
     "output_type": "execute_result"
    }
   ],
   "source": [
    "translation.text"
   ]
  },
  {
   "cell_type": "code",
   "execution_count": 82,
   "metadata": {},
   "outputs": [
    {
     "data": {
      "text/plain": [
       "{'label': 'NEUTRAL',\n",
       " 'score': 0.4484691023826599,\n",
       " 'elapsed time': 0.051882266998291016}"
      ]
     },
     "execution_count": 82,
     "metadata": {},
     "output_type": "execute_result"
    }
   ],
   "source": [
    "predict(translation.text)"
   ]
  },
  {
   "cell_type": "code",
   "execution_count": 83,
   "metadata": {},
   "outputs": [],
   "source": [
    "translation = translator.translate(\"العراق لو استغل موارده الطبيعية فقط دون إصلاحات اقتصادية مستدامه لكان قائدًا لاهم منطقة في العالم وهي الشرق الاوسط ، اجتمع غباء سياسييه مع غدر جيرانه ايران وتركيا .. حالهم مؤسف واقصى امانيهم كهرباء تعمل لنصف يوم فقط !\", dest=\"en\", src=\"ar\")"
   ]
  },
  {
   "cell_type": "code",
   "execution_count": 84,
   "metadata": {},
   "outputs": [
    {
     "data": {
      "text/plain": [
       "'If Iraq had only exploited its natural resources without sustainable economic reforms, it would have been the leader of the most important region in the world, which is the Middle East. Political stupidity combined with the treachery of its neighbors, Iran and Turkey ... their condition is regrettable and their highest hopes are electricity that works for only half a day!'"
      ]
     },
     "execution_count": 84,
     "metadata": {},
     "output_type": "execute_result"
    }
   ],
   "source": [
    "translation.text"
   ]
  },
  {
   "cell_type": "code",
   "execution_count": 87,
   "metadata": {},
   "outputs": [
    {
     "data": {
      "text/plain": [
       "{'label': 'NEGATIVE',\n",
       " 'score': 0.23208719491958618,\n",
       " 'elapsed time': 0.055850982666015625}"
      ]
     },
     "execution_count": 87,
     "metadata": {},
     "output_type": "execute_result"
    }
   ],
   "source": [
    "predict(translation.text)"
   ]
  },
  {
   "cell_type": "code",
   "execution_count": 99,
   "metadata": {},
   "outputs": [],
   "source": [
    "SENTIMENT_THRESHOLDS = (0.37, 0.85)"
   ]
  },
  {
   "cell_type": "code",
   "execution_count": null,
   "metadata": {},
   "outputs": [],
   "source": []
  }
 ],
 "metadata": {
  "kernelspec": {
   "display_name": "Python 3",
   "language": "python",
   "name": "python3"
  },
  "language_info": {
   "codemirror_mode": {
    "name": "ipython",
    "version": 3
   },
   "file_extension": ".py",
   "mimetype": "text/x-python",
   "name": "python",
   "nbconvert_exporter": "python",
   "pygments_lexer": "ipython3",
   "version": "3.7.3"
  }
 },
 "nbformat": 4,
 "nbformat_minor": 4
}
